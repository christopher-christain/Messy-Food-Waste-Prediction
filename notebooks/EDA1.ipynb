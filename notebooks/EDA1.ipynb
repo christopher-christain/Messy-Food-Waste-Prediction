{
 "cells": [
  {
   "cell_type": "markdown",
   "id": "39e5ea85",
   "metadata": {},
   "source": [
    "## EDA1: TRAIN DATA\n",
    "\n"
   ]
  },
  {
   "cell_type": "code",
   "execution_count": null,
   "id": "b9728aef",
   "metadata": {},
   "outputs": [],
   "source": [
    "# importing data manipulation library\n",
    "import pandas as pd\n",
    "import numpy as np\n"
   ]
  },
  {
   "cell_type": "code",
   "execution_count": null,
   "id": "21aafe76",
   "metadata": {},
   "outputs": [],
   "source": [
    "data =pd.read_csv(r\"C:\\Users\\User\\Desktop\\Messy-Food-Waste-Prediction\\data\\raw_data\\train.csv\")"
   ]
  },
  {
   "cell_type": "code",
   "execution_count": null,
   "id": "4d897603",
   "metadata": {},
   "outputs": [],
   "source": [
    "data.head()"
   ]
  },
  {
   "cell_type": "markdown",
   "id": "dd4da0e9",
   "metadata": {},
   "source": [
    "## Exploratory Data Analysis"
   ]
  },
  {
   "cell_type": "code",
   "execution_count": null,
   "id": "678669d0",
   "metadata": {},
   "outputs": [],
   "source": [
    "# checking the information about the data\n",
    "data.info()"
   ]
  },
  {
   "cell_type": "code",
   "execution_count": null,
   "id": "58cfb1ff",
   "metadata": {},
   "outputs": [],
   "source": [
    "# checking out the number of rows and columns in the data\n",
    "\n",
    "data.shape"
   ]
  },
  {
   "cell_type": "code",
   "execution_count": null,
   "id": "a14717d8",
   "metadata": {},
   "outputs": [],
   "source": [
    "# listing out the columns in the data set\n",
    "data.columns"
   ]
  },
  {
   "cell_type": "code",
   "execution_count": null,
   "id": "3b28061a",
   "metadata": {},
   "outputs": [],
   "source": [
    "# dropping the ID and date columns as they are not useful for analysis\n",
    "data.drop(columns=['ID', \"date\"], inplace=True\n",
    "          )"
   ]
  },
  {
   "cell_type": "code",
   "execution_count": null,
   "id": "2a24e399",
   "metadata": {},
   "outputs": [],
   "source": [
    "data.columns"
   ]
  },
  {
   "cell_type": "code",
   "execution_count": null,
   "id": "492f0008",
   "metadata": {},
   "outputs": [],
   "source": [
    "# checking for missing values in the data\n",
    "for column in data.columns:\n",
    "    if data[column].isnull().any():\n",
    "        print(f\"columns: {column} | missing values: {data[column].isnull().sum()}\")\n"
   ]
  },
  {
   "cell_type": "code",
   "execution_count": null,
   "id": "ed790b0a",
   "metadata": {},
   "outputs": [],
   "source": [
    "# checking for duplicate rows in the data\n",
    "duplicate_rows = data.duplicated().sum()\n",
    "if duplicate_rows > 0:\n",
    "    print(f\"duplicate row found: {duplicate_rows}\")\n",
    "else:\n",
    "    print(\"no duplicate rows found\")"
   ]
  },
  {
   "cell_type": "code",
   "execution_count": null,
   "id": "103c0fb6",
   "metadata": {},
   "outputs": [],
   "source": [
    "# check the data type of staff_experience\n",
    "print (data[\"staff_experience\"].dtypes)"
   ]
  },
  {
   "cell_type": "code",
   "execution_count": null,
   "id": "43821d82",
   "metadata": {},
   "outputs": [],
   "source": [
    "duplicate_values = data[\"staff_experience\"].value_counts()\n",
    "print (duplicate_values [duplicate_values > 1])\n"
   ]
  },
  {
   "cell_type": "code",
   "execution_count": null,
   "id": "8e60958a",
   "metadata": {},
   "outputs": [],
   "source": [
    "data[\"staff_experience\"] = data[\"staff_experience\"].replace (\"intermediate\", \"Intermediate\")"
   ]
  },
  {
   "cell_type": "code",
   "execution_count": null,
   "id": "d125a5ab",
   "metadata": {},
   "outputs": [],
   "source": [
    "data[\"staff_experience\"] = data[\"staff_experience\"].replace(\n",
    "    {\n",
    "        \"EXPERT\": \"Expert\"\n",
    "    }\n",
    ")"
   ]
  },
  {
   "cell_type": "code",
   "execution_count": null,
   "id": "b6ebef70",
   "metadata": {},
   "outputs": [],
   "source": [
    "data.columns"
   ]
  },
  {
   "cell_type": "code",
   "execution_count": null,
   "id": "4c5465c4",
   "metadata": {},
   "outputs": [],
   "source": [
    "# lets deal with the objects in the columns\n",
    "# we have staff_experience and waste_category\n",
    "data[\"staff_experience\"].isna().value_counts()\n"
   ]
  },
  {
   "cell_type": "code",
   "execution_count": null,
   "id": "df16009c",
   "metadata": {},
   "outputs": [],
   "source": [
    "# we will drop nan values in staff_experience, since the percentage of nan value is very small compared to the data\n",
    "data = data.dropna(subset=[\"staff_experience\"])\n"
   ]
  },
  {
   "cell_type": "code",
   "execution_count": null,
   "id": "df8e0a2f",
   "metadata": {},
   "outputs": [],
   "source": [
    "data[\"waste_category\"].isna().sum()\n"
   ]
  },
  {
   "cell_type": "code",
   "execution_count": null,
   "id": "35e89348",
   "metadata": {},
   "outputs": [],
   "source": [
    "data[\"waste_category\"].value_counts()"
   ]
  },
  {
   "cell_type": "code",
   "execution_count": null,
   "id": "d6a22942",
   "metadata": {},
   "outputs": [],
   "source": [
    "# convert the data type of waste_category from int to string\n",
    "data[\"waste_category\"] = data[\"waste_category\"].astype(str)"
   ]
  },
  {
   "cell_type": "code",
   "execution_count": null,
   "id": "b6972753",
   "metadata": {},
   "outputs": [],
   "source": [
    "data[\"waste_category\"].value_counts()"
   ]
  },
  {
   "cell_type": "code",
   "execution_count": null,
   "id": "6c998af3",
   "metadata": {},
   "outputs": [],
   "source": [
    "data[\"waste_category\"] = data[\"waste_category\"].str.lower()"
   ]
  },
  {
   "cell_type": "code",
   "execution_count": null,
   "id": "37a2722d",
   "metadata": {},
   "outputs": [],
   "source": [
    "data[\"waste_category\"].value_counts()"
   ]
  },
  {
   "cell_type": "code",
   "execution_count": null,
   "id": "6c8444aa",
   "metadata": {},
   "outputs": [],
   "source": [
    "data[\"waste_category\"] = data[\"waste_category\"].astype(str)"
   ]
  },
  {
   "cell_type": "code",
   "execution_count": null,
   "id": "dae4dbfa",
   "metadata": {},
   "outputs": [],
   "source": [
    "data[\"staff_experience\"].isna().sum()\n"
   ]
  },
  {
   "cell_type": "code",
   "execution_count": null,
   "id": "ccc383cf",
   "metadata": {},
   "outputs": [],
   "source": [
    "data.info()"
   ]
  },
  {
   "cell_type": "code",
   "execution_count": null,
   "id": "f21f4880",
   "metadata": {},
   "outputs": [],
   "source": [
    "data[\"special_event\"].value_counts()"
   ]
  },
  {
   "cell_type": "code",
   "execution_count": null,
   "id": "d06aab80",
   "metadata": {},
   "outputs": [],
   "source": [
    "cols = [\"special_event\", \"staff_experience\", \"waste_category\"]\n",
    "data[cols] = data[cols].astype(\"category\")\n"
   ]
  },
  {
   "cell_type": "code",
   "execution_count": null,
   "id": "2594d00f",
   "metadata": {},
   "outputs": [],
   "source": [
    "data.info()"
   ]
  },
  {
   "cell_type": "code",
   "execution_count": null,
   "id": "95a0a523",
   "metadata": {},
   "outputs": [],
   "source": [
    "def handle_outlier(data, columns, method=\"IQR\", threshold=1.5, strategy=\"replace\"):\n",
    "    for col in columns:\n",
    "        if method == \"IQR\":\n",
    "            Q1 = data[col].quantile(0.25)\n",
    "            Q3 = data[col].quantile(0.75)\n",
    "            IQR = Q3 - Q1\n",
    "            lower_bound = Q1 - threshold * IQR\n",
    "            upper_bound = Q3 + threshold * IQR\n",
    "\n",
    "        elif method == \"Z-score\":\n",
    "            mean = data[col].mean()\n",
    "            std = data[col].std()\n",
    "            lower_bound = mean - threshold * std\n",
    "            upper_bound = mean + threshold * std\n",
    "\n",
    "        else:\n",
    "            print(\"Invalid method\")\n",
    "            continue\n",
    "\n",
    "        if strategy == \"replace\":\n",
    "            # Replace outliers with boundary values (clipping)\n",
    "            data[col] = np.clip(data[col], lower_bound, upper_bound)\n",
    "        elif strategy == \"remove\":\n",
    "            # Remove rows with outliers\n",
    "            data = data[(data[col] >= lower_bound) & (data[col] <= upper_bound)]\n",
    "        else:\n",
    "            print(\"Invalid strategy. Choose 'replace' or 'remove'.\")\n",
    "\n",
    "    return data\n"
   ]
  },
  {
   "cell_type": "code",
   "execution_count": null,
   "id": "d8df298e",
   "metadata": {},
   "outputs": [],
   "source": [
    "columns_to_process = [\"temperature_C\", \"meals_served\", \"food_waste_kg\"]\n",
    "data = handle_outlier(data, columns_to_process, method=\"IQR\", threshold=0.75, strategy=\"replace\")\n"
   ]
  },
  {
   "cell_type": "code",
   "execution_count": null,
   "id": "36693274",
   "metadata": {},
   "outputs": [],
   "source": [
    "data.drop_duplicates(inplace=True)"
   ]
  },
  {
   "cell_type": "code",
   "execution_count": null,
   "id": "707ca98a",
   "metadata": {},
   "outputs": [],
   "source": [
    "data"
   ]
  },
  {
   "cell_type": "code",
   "execution_count": null,
   "id": "94b693e6",
   "metadata": {},
   "outputs": [],
   "source": [
    "# \n"
   ]
  },
  {
   "cell_type": "markdown",
   "id": "9e36cd1e",
   "metadata": {},
   "source": [
    "## feature engineering and Encoding"
   ]
  },
  {
   "cell_type": "code",
   "execution_count": null,
   "id": "2f5b13e5",
   "metadata": {},
   "outputs": [],
   "source": [
    "# experience_order = {\"Beginner\": 0, \"Intermediate\": 1, \"Expert\": 2, \"Unknown\": -1}\n",
    "# data[\"staff_experience\"] = data[\"staff_experience\"].replace(experience_order)\n"
   ]
  },
  {
   "cell_type": "code",
   "execution_count": null,
   "id": "be51ea95",
   "metadata": {},
   "outputs": [],
   "source": [
    "# data = pd.get_dummies(data, columns=[\"waste_category\", \"special_event\"], drop_first=True)\n"
   ]
  },
  {
   "cell_type": "code",
   "execution_count": null,
   "id": "829edd80",
   "metadata": {},
   "outputs": [],
   "source": [
    "# \n",
    "data.columns"
   ]
  },
  {
   "cell_type": "code",
   "execution_count": null,
   "id": "3cd8608b",
   "metadata": {},
   "outputs": [],
   "source": [
    "data.to_csv(\"cleaned_food_waste_data.csv\", index=False)\n"
   ]
  },
  {
   "cell_type": "code",
   "execution_count": null,
   "id": "e44fc62c",
   "metadata": {},
   "outputs": [],
   "source": [
    "\n"
   ]
  },
  {
   "cell_type": "code",
   "execution_count": null,
   "id": "a2f78c72",
   "metadata": {},
   "outputs": [],
   "source": [
    "\n"
   ]
  },
  {
   "cell_type": "code",
   "execution_count": null,
   "id": "ab76b20b",
   "metadata": {},
   "outputs": [],
   "source": [
    "\n"
   ]
  },
  {
   "cell_type": "code",
   "execution_count": null,
   "id": "e8585672",
   "metadata": {},
   "outputs": [],
   "source": [
    "\n"
   ]
  },
  {
   "cell_type": "code",
   "execution_count": null,
   "id": "2683aea9",
   "metadata": {},
   "outputs": [],
   "source": [
    "\n",
    "\n"
   ]
  },
  {
   "cell_type": "code",
   "execution_count": null,
   "id": "f754490b",
   "metadata": {},
   "outputs": [],
   "source": [
    "\n"
   ]
  },
  {
   "cell_type": "code",
   "execution_count": null,
   "id": "67667fce",
   "metadata": {},
   "outputs": [],
   "source": []
  }
 ],
 "metadata": {
  "kernelspec": {
   "display_name": "base",
   "language": "python",
   "name": "python3"
  },
  "language_info": {
   "codemirror_mode": {
    "name": "ipython",
    "version": 3
   },
   "file_extension": ".py",
   "mimetype": "text/x-python",
   "name": "python",
   "nbconvert_exporter": "python",
   "pygments_lexer": "ipython3",
   "version": "3.12.7"
  }
 },
 "nbformat": 4,
 "nbformat_minor": 5
}
