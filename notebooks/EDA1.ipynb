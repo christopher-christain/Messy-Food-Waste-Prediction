{
 "cells": [
  {
   "cell_type": "markdown",
   "id": "39e5ea85",
   "metadata": {},
   "source": [
    "## EDA1: TRAIN DATA\n",
    "\n"
   ]
  },
  {
   "cell_type": "code",
   "execution_count": 95,
   "id": "b9728aef",
   "metadata": {},
   "outputs": [],
   "source": [
    "# importing data manipulation library\n",
    "import pandas as pd\n",
    "import numpy as np\n"
   ]
  },
  {
   "cell_type": "code",
   "execution_count": 96,
   "id": "21aafe76",
   "metadata": {},
   "outputs": [],
   "source": [
    "data =pd.read_csv(r\"C:\\Users\\User\\Desktop\\Messy-Food-Waste-Prediction\\data\\raw_data\\train.csv\")"
   ]
  },
  {
   "cell_type": "code",
   "execution_count": 97,
   "id": "4d897603",
   "metadata": {},
   "outputs": [
    {
     "data": {
      "text/html": [
       "<div>\n",
       "<style scoped>\n",
       "    .dataframe tbody tr th:only-of-type {\n",
       "        vertical-align: middle;\n",
       "    }\n",
       "\n",
       "    .dataframe tbody tr th {\n",
       "        vertical-align: top;\n",
       "    }\n",
       "\n",
       "    .dataframe thead th {\n",
       "        text-align: right;\n",
       "    }\n",
       "</style>\n",
       "<table border=\"1\" class=\"dataframe\">\n",
       "  <thead>\n",
       "    <tr style=\"text-align: right;\">\n",
       "      <th></th>\n",
       "      <th>ID</th>\n",
       "      <th>date</th>\n",
       "      <th>meals_served</th>\n",
       "      <th>kitchen_staff</th>\n",
       "      <th>temperature_C</th>\n",
       "      <th>humidity_percent</th>\n",
       "      <th>day_of_week</th>\n",
       "      <th>special_event</th>\n",
       "      <th>past_waste_kg</th>\n",
       "      <th>staff_experience</th>\n",
       "      <th>waste_category</th>\n",
       "      <th>food_waste_kg</th>\n",
       "    </tr>\n",
       "  </thead>\n",
       "  <tbody>\n",
       "    <tr>\n",
       "      <th>0</th>\n",
       "      <td>0</td>\n",
       "      <td>2022-12-19</td>\n",
       "      <td>196</td>\n",
       "      <td>13</td>\n",
       "      <td>27.887273</td>\n",
       "      <td>45.362854</td>\n",
       "      <td>0</td>\n",
       "      <td>0</td>\n",
       "      <td>7.740587</td>\n",
       "      <td>intermediate</td>\n",
       "      <td>dairy</td>\n",
       "      <td>28.946465</td>\n",
       "    </tr>\n",
       "    <tr>\n",
       "      <th>1</th>\n",
       "      <td>1</td>\n",
       "      <td>2023-11-21</td>\n",
       "      <td>244</td>\n",
       "      <td>15</td>\n",
       "      <td>10.317872</td>\n",
       "      <td>64.430475</td>\n",
       "      <td>1</td>\n",
       "      <td>0</td>\n",
       "      <td>42.311779</td>\n",
       "      <td>NaN</td>\n",
       "      <td>MeAt</td>\n",
       "      <td>51.549053</td>\n",
       "    </tr>\n",
       "    <tr>\n",
       "      <th>2</th>\n",
       "      <td>4</td>\n",
       "      <td>2022-02-01</td>\n",
       "      <td>148</td>\n",
       "      <td>16</td>\n",
       "      <td>27.714300</td>\n",
       "      <td>69.046113</td>\n",
       "      <td>1</td>\n",
       "      <td>0</td>\n",
       "      <td>41.184305</td>\n",
       "      <td>Beginner</td>\n",
       "      <td>MeAt</td>\n",
       "      <td>53.008323</td>\n",
       "    </tr>\n",
       "    <tr>\n",
       "      <th>3</th>\n",
       "      <td>5</td>\n",
       "      <td>2023-03-19</td>\n",
       "      <td>157</td>\n",
       "      <td>19</td>\n",
       "      <td>19.173902</td>\n",
       "      <td>46.292823</td>\n",
       "      <td>6</td>\n",
       "      <td>0</td>\n",
       "      <td>41.543492</td>\n",
       "      <td>Beginner</td>\n",
       "      <td>MeAt</td>\n",
       "      <td>48.621527</td>\n",
       "    </tr>\n",
       "    <tr>\n",
       "      <th>4</th>\n",
       "      <td>6</td>\n",
       "      <td>2022-07-18</td>\n",
       "      <td>297</td>\n",
       "      <td>10</td>\n",
       "      <td>26.375233</td>\n",
       "      <td>79.741064</td>\n",
       "      <td>0</td>\n",
       "      <td>0</td>\n",
       "      <td>26.525097</td>\n",
       "      <td>Intermediate</td>\n",
       "      <td>MEAT</td>\n",
       "      <td>44.156984</td>\n",
       "    </tr>\n",
       "  </tbody>\n",
       "</table>\n",
       "</div>"
      ],
      "text/plain": [
       "   ID        date  meals_served  kitchen_staff  temperature_C  \\\n",
       "0   0  2022-12-19           196             13      27.887273   \n",
       "1   1  2023-11-21           244             15      10.317872   \n",
       "2   4  2022-02-01           148             16      27.714300   \n",
       "3   5  2023-03-19           157             19      19.173902   \n",
       "4   6  2022-07-18           297             10      26.375233   \n",
       "\n",
       "   humidity_percent  day_of_week  special_event  past_waste_kg  \\\n",
       "0         45.362854            0              0       7.740587   \n",
       "1         64.430475            1              0      42.311779   \n",
       "2         69.046113            1              0      41.184305   \n",
       "3         46.292823            6              0      41.543492   \n",
       "4         79.741064            0              0      26.525097   \n",
       "\n",
       "  staff_experience waste_category  food_waste_kg  \n",
       "0     intermediate          dairy      28.946465  \n",
       "1              NaN           MeAt      51.549053  \n",
       "2         Beginner           MeAt      53.008323  \n",
       "3         Beginner           MeAt      48.621527  \n",
       "4     Intermediate           MEAT      44.156984  "
      ]
     },
     "execution_count": 97,
     "metadata": {},
     "output_type": "execute_result"
    }
   ],
   "source": [
    "data.head()"
   ]
  },
  {
   "cell_type": "markdown",
   "id": "dd4da0e9",
   "metadata": {},
   "source": [
    "## Exploratory Data Analysis"
   ]
  },
  {
   "cell_type": "code",
   "execution_count": 98,
   "id": "678669d0",
   "metadata": {},
   "outputs": [
    {
     "name": "stdout",
     "output_type": "stream",
     "text": [
      "<class 'pandas.core.frame.DataFrame'>\n",
      "RangeIndex: 911 entries, 0 to 910\n",
      "Data columns (total 12 columns):\n",
      " #   Column            Non-Null Count  Dtype  \n",
      "---  ------            --------------  -----  \n",
      " 0   ID                911 non-null    int64  \n",
      " 1   date              911 non-null    object \n",
      " 2   meals_served      911 non-null    int64  \n",
      " 3   kitchen_staff     911 non-null    int64  \n",
      " 4   temperature_C     911 non-null    float64\n",
      " 5   humidity_percent  911 non-null    float64\n",
      " 6   day_of_week       911 non-null    int64  \n",
      " 7   special_event     911 non-null    int64  \n",
      " 8   past_waste_kg     911 non-null    float64\n",
      " 9   staff_experience  747 non-null    object \n",
      " 10  waste_category    911 non-null    object \n",
      " 11  food_waste_kg     911 non-null    float64\n",
      "dtypes: float64(4), int64(5), object(3)\n",
      "memory usage: 85.5+ KB\n"
     ]
    }
   ],
   "source": [
    "# checking the information about the data\n",
    "data.info()"
   ]
  },
  {
   "cell_type": "code",
   "execution_count": 99,
   "id": "58cfb1ff",
   "metadata": {},
   "outputs": [
    {
     "data": {
      "text/plain": [
       "(911, 12)"
      ]
     },
     "execution_count": 99,
     "metadata": {},
     "output_type": "execute_result"
    }
   ],
   "source": [
    "# checking out the number of rows and columns in the data\n",
    "\n",
    "data.shape"
   ]
  },
  {
   "cell_type": "code",
   "execution_count": 100,
   "id": "a14717d8",
   "metadata": {},
   "outputs": [
    {
     "data": {
      "text/plain": [
       "Index(['ID', 'date', 'meals_served', 'kitchen_staff', 'temperature_C',\n",
       "       'humidity_percent', 'day_of_week', 'special_event', 'past_waste_kg',\n",
       "       'staff_experience', 'waste_category', 'food_waste_kg'],\n",
       "      dtype='object')"
      ]
     },
     "execution_count": 100,
     "metadata": {},
     "output_type": "execute_result"
    }
   ],
   "source": [
    "# listing out the columns in the data set\n",
    "data.columns"
   ]
  },
  {
   "cell_type": "code",
   "execution_count": 101,
   "id": "3b28061a",
   "metadata": {},
   "outputs": [],
   "source": [
    "# dropping the ID and date columns as they are not useful for analysis\n",
    "data.drop(columns=['ID', \"date\"], inplace=True\n",
    "          )"
   ]
  },
  {
   "cell_type": "code",
   "execution_count": 102,
   "id": "2a24e399",
   "metadata": {},
   "outputs": [
    {
     "data": {
      "text/plain": [
       "Index(['meals_served', 'kitchen_staff', 'temperature_C', 'humidity_percent',\n",
       "       'day_of_week', 'special_event', 'past_waste_kg', 'staff_experience',\n",
       "       'waste_category', 'food_waste_kg'],\n",
       "      dtype='object')"
      ]
     },
     "execution_count": 102,
     "metadata": {},
     "output_type": "execute_result"
    }
   ],
   "source": [
    "data.columns"
   ]
  },
  {
   "cell_type": "code",
   "execution_count": 103,
   "id": "492f0008",
   "metadata": {},
   "outputs": [
    {
     "name": "stdout",
     "output_type": "stream",
     "text": [
      "columns: staff_experience | missing values: 164\n"
     ]
    }
   ],
   "source": [
    "# checking for missing values in the data\n",
    "for column in data.columns:\n",
    "    if data[column].isnull().any():\n",
    "        print(f\"columns: {column} | missing values: {data[column].isnull().sum()}\")\n"
   ]
  },
  {
   "cell_type": "code",
   "execution_count": 104,
   "id": "ed790b0a",
   "metadata": {},
   "outputs": [
    {
     "name": "stdout",
     "output_type": "stream",
     "text": [
      "no duplicate rows found\n"
     ]
    }
   ],
   "source": [
    "# checking for duplicate rows in the data\n",
    "duplicate_rows = data.duplicated().sum()\n",
    "if duplicate_rows > 0:\n",
    "    print(f\"duplicate row found: {duplicate_rows}\")\n",
    "else:\n",
    "    print(\"no duplicate rows found\")"
   ]
  },
  {
   "cell_type": "code",
   "execution_count": 105,
   "id": "103c0fb6",
   "metadata": {},
   "outputs": [
    {
     "name": "stdout",
     "output_type": "stream",
     "text": [
      "object\n"
     ]
    }
   ],
   "source": [
    "# check the data type of staff_experience\n",
    "print (data[\"staff_experience\"].dtypes)"
   ]
  },
  {
   "cell_type": "code",
   "execution_count": 106,
   "id": "43821d82",
   "metadata": {},
   "outputs": [
    {
     "name": "stdout",
     "output_type": "stream",
     "text": [
      "staff_experience\n",
      "Beginner        191\n",
      "Intermediate    186\n",
      "EXPERT          186\n",
      "intermediate    184\n",
      "Name: count, dtype: int64\n"
     ]
    }
   ],
   "source": [
    "duplicate_values = data[\"staff_experience\"].value_counts()\n",
    "print (duplicate_values [duplicate_values > 1])\n"
   ]
  },
  {
   "cell_type": "code",
   "execution_count": 107,
   "id": "8e60958a",
   "metadata": {},
   "outputs": [],
   "source": [
    "data[\"staff_experience\"] = data[\"staff_experience\"].replace (\"intermediate\", \"Intermediate\")"
   ]
  },
  {
   "cell_type": "code",
   "execution_count": 108,
   "id": "d125a5ab",
   "metadata": {},
   "outputs": [],
   "source": [
    "data[\"staff_experience\"] = data[\"staff_experience\"].replace(\n",
    "    {\n",
    "        \"EXPERT\": \"Expert\"\n",
    "    }\n",
    ")"
   ]
  },
  {
   "cell_type": "code",
   "execution_count": 109,
   "id": "b6ebef70",
   "metadata": {},
   "outputs": [
    {
     "data": {
      "text/plain": [
       "Index(['meals_served', 'kitchen_staff', 'temperature_C', 'humidity_percent',\n",
       "       'day_of_week', 'special_event', 'past_waste_kg', 'staff_experience',\n",
       "       'waste_category', 'food_waste_kg'],\n",
       "      dtype='object')"
      ]
     },
     "execution_count": 109,
     "metadata": {},
     "output_type": "execute_result"
    }
   ],
   "source": [
    "data.columns"
   ]
  },
  {
   "cell_type": "code",
   "execution_count": 110,
   "id": "4c5465c4",
   "metadata": {},
   "outputs": [
    {
     "data": {
      "text/plain": [
       "staff_experience\n",
       "False    747\n",
       "True     164\n",
       "Name: count, dtype: int64"
      ]
     },
     "execution_count": 110,
     "metadata": {},
     "output_type": "execute_result"
    }
   ],
   "source": [
    "# lets deal with the objects in the columns\n",
    "# we have staff_experience and waste_category\n",
    "data[\"staff_experience\"].isna().value_counts()\n"
   ]
  },
  {
   "cell_type": "code",
   "execution_count": 111,
   "id": "df16009c",
   "metadata": {},
   "outputs": [],
   "source": [
    "# we will drop nan values in staff_experience, since the percentage of nan value is very small compared to the data\n",
    "data = data.dropna(subset=[\"staff_experience\"])\n"
   ]
  },
  {
   "cell_type": "code",
   "execution_count": 112,
   "id": "df8e0a2f",
   "metadata": {},
   "outputs": [
    {
     "data": {
      "text/plain": [
       "0"
      ]
     },
     "execution_count": 112,
     "metadata": {},
     "output_type": "execute_result"
    }
   ],
   "source": [
    "data[\"waste_category\"].isna().sum()\n"
   ]
  },
  {
   "cell_type": "code",
   "execution_count": 113,
   "id": "35e89348",
   "metadata": {},
   "outputs": [
    {
     "data": {
      "text/plain": [
       "waste_category\n",
       "MEAT          176\n",
       "dairy         148\n",
       "GRAINS        142\n",
       "MeAt          141\n",
       "Vegetables    140\n",
       "Name: count, dtype: int64"
      ]
     },
     "execution_count": 113,
     "metadata": {},
     "output_type": "execute_result"
    }
   ],
   "source": [
    "data[\"waste_category\"].value_counts()"
   ]
  },
  {
   "cell_type": "code",
   "execution_count": 114,
   "id": "d6a22942",
   "metadata": {},
   "outputs": [],
   "source": [
    "# convert the data type of waste_category from int to string\n",
    "data[\"waste_category\"] = data[\"waste_category\"].astype(str)"
   ]
  },
  {
   "cell_type": "code",
   "execution_count": 115,
   "id": "b6972753",
   "metadata": {},
   "outputs": [
    {
     "data": {
      "text/plain": [
       "waste_category\n",
       "MEAT          176\n",
       "dairy         148\n",
       "GRAINS        142\n",
       "MeAt          141\n",
       "Vegetables    140\n",
       "Name: count, dtype: int64"
      ]
     },
     "execution_count": 115,
     "metadata": {},
     "output_type": "execute_result"
    }
   ],
   "source": [
    "data[\"waste_category\"].value_counts()"
   ]
  },
  {
   "cell_type": "code",
   "execution_count": 116,
   "id": "6c998af3",
   "metadata": {},
   "outputs": [],
   "source": [
    "data[\"waste_category\"] = data[\"waste_category\"].str.lower()"
   ]
  },
  {
   "cell_type": "code",
   "execution_count": 117,
   "id": "37a2722d",
   "metadata": {},
   "outputs": [
    {
     "data": {
      "text/plain": [
       "waste_category\n",
       "meat          317\n",
       "dairy         148\n",
       "grains        142\n",
       "vegetables    140\n",
       "Name: count, dtype: int64"
      ]
     },
     "execution_count": 117,
     "metadata": {},
     "output_type": "execute_result"
    }
   ],
   "source": [
    "data[\"waste_category\"].value_counts()"
   ]
  },
  {
   "cell_type": "code",
   "execution_count": 118,
   "id": "6c8444aa",
   "metadata": {},
   "outputs": [],
   "source": [
    "data[\"waste_category\"] = data[\"waste_category\"].astype(str)"
   ]
  },
  {
   "cell_type": "code",
   "execution_count": 121,
   "id": "dae4dbfa",
   "metadata": {},
   "outputs": [
    {
     "data": {
      "text/plain": [
       "0"
      ]
     },
     "execution_count": 121,
     "metadata": {},
     "output_type": "execute_result"
    }
   ],
   "source": [
    "data[\"staff_experience\"].isna().sum()\n"
   ]
  },
  {
   "cell_type": "code",
   "execution_count": 122,
   "id": "ccc383cf",
   "metadata": {},
   "outputs": [
    {
     "name": "stdout",
     "output_type": "stream",
     "text": [
      "<class 'pandas.core.frame.DataFrame'>\n",
      "Index: 747 entries, 0 to 910\n",
      "Data columns (total 10 columns):\n",
      " #   Column            Non-Null Count  Dtype  \n",
      "---  ------            --------------  -----  \n",
      " 0   meals_served      747 non-null    int64  \n",
      " 1   kitchen_staff     747 non-null    int64  \n",
      " 2   temperature_C     747 non-null    float64\n",
      " 3   humidity_percent  747 non-null    float64\n",
      " 4   day_of_week       747 non-null    int64  \n",
      " 5   special_event     747 non-null    int64  \n",
      " 6   past_waste_kg     747 non-null    float64\n",
      " 7   staff_experience  747 non-null    object \n",
      " 8   waste_category    747 non-null    object \n",
      " 9   food_waste_kg     747 non-null    float64\n",
      "dtypes: float64(4), int64(4), object(2)\n",
      "memory usage: 64.2+ KB\n"
     ]
    }
   ],
   "source": [
    "data.info()"
   ]
  },
  {
   "cell_type": "code",
   "execution_count": 128,
   "id": "f21f4880",
   "metadata": {},
   "outputs": [
    {
     "data": {
      "text/plain": [
       "special_event\n",
       "0    681\n",
       "1     66\n",
       "Name: count, dtype: int64"
      ]
     },
     "execution_count": 128,
     "metadata": {},
     "output_type": "execute_result"
    }
   ],
   "source": [
    "data[\"special_event\"].value_counts()"
   ]
  },
  {
   "cell_type": "code",
   "execution_count": 129,
   "id": "d06aab80",
   "metadata": {},
   "outputs": [],
   "source": [
    "cols = [\"special_event\", \"staff_experience\", \"waste_category\"]\n",
    "data[cols] = data[cols].astype(\"category\")\n"
   ]
  },
  {
   "cell_type": "code",
   "execution_count": 130,
   "id": "2594d00f",
   "metadata": {},
   "outputs": [
    {
     "name": "stdout",
     "output_type": "stream",
     "text": [
      "<class 'pandas.core.frame.DataFrame'>\n",
      "Index: 747 entries, 0 to 910\n",
      "Data columns (total 10 columns):\n",
      " #   Column            Non-Null Count  Dtype   \n",
      "---  ------            --------------  -----   \n",
      " 0   meals_served      747 non-null    int64   \n",
      " 1   kitchen_staff     747 non-null    int64   \n",
      " 2   temperature_C     747 non-null    float64 \n",
      " 3   humidity_percent  747 non-null    float64 \n",
      " 4   day_of_week       747 non-null    int64   \n",
      " 5   special_event     747 non-null    category\n",
      " 6   past_waste_kg     747 non-null    float64 \n",
      " 7   staff_experience  747 non-null    category\n",
      " 8   waste_category    747 non-null    category\n",
      " 9   food_waste_kg     747 non-null    float64 \n",
      "dtypes: category(3), float64(4), int64(3)\n",
      "memory usage: 49.3 KB\n"
     ]
    }
   ],
   "source": [
    "data.info()"
   ]
  },
  {
   "cell_type": "code",
   "execution_count": 137,
   "id": "95a0a523",
   "metadata": {},
   "outputs": [
    {
     "name": "stdout",
     "output_type": "stream",
     "text": [
      "The correlation between meals_served and food_waste_kg is: 0.867996809644241\n"
     ]
    }
   ],
   "source": [
    "data[\"meals_served\"].corr(data['food_waste_kg'])\n",
    "\n",
    "print (\"The correlation between meals_served and food_waste_kg is:\", data[\"meals_served\"].corr(data['food_waste_kg']))"
   ]
  },
  {
   "cell_type": "code",
   "execution_count": 143,
   "id": "98a3ebbf",
   "metadata": {},
   "outputs": [
    {
     "data": {
      "text/html": [
       "<div>\n",
       "<style scoped>\n",
       "    .dataframe tbody tr th:only-of-type {\n",
       "        vertical-align: middle;\n",
       "    }\n",
       "\n",
       "    .dataframe tbody tr th {\n",
       "        vertical-align: top;\n",
       "    }\n",
       "\n",
       "    .dataframe thead tr th {\n",
       "        text-align: left;\n",
       "    }\n",
       "\n",
       "    .dataframe thead tr:last-of-type th {\n",
       "        text-align: right;\n",
       "    }\n",
       "</style>\n",
       "<table border=\"1\" class=\"dataframe\">\n",
       "  <thead>\n",
       "    <tr>\n",
       "      <th></th>\n",
       "      <th colspan=\"8\" halign=\"left\">food_waste_kg</th>\n",
       "    </tr>\n",
       "    <tr>\n",
       "      <th></th>\n",
       "      <th>count</th>\n",
       "      <th>mean</th>\n",
       "      <th>std</th>\n",
       "      <th>min</th>\n",
       "      <th>25%</th>\n",
       "      <th>50%</th>\n",
       "      <th>75%</th>\n",
       "      <th>max</th>\n",
       "    </tr>\n",
       "    <tr>\n",
       "      <th>kitchen_staff</th>\n",
       "      <th></th>\n",
       "      <th></th>\n",
       "      <th></th>\n",
       "      <th></th>\n",
       "      <th></th>\n",
       "      <th></th>\n",
       "      <th></th>\n",
       "      <th></th>\n",
       "    </tr>\n",
       "  </thead>\n",
       "  <tbody>\n",
       "    <tr>\n",
       "      <th>5</th>\n",
       "      <td>57.0</td>\n",
       "      <td>46.150607</td>\n",
       "      <td>35.981622</td>\n",
       "      <td>20.466625</td>\n",
       "      <td>33.416307</td>\n",
       "      <td>37.416231</td>\n",
       "      <td>46.160719</td>\n",
       "      <td>274.328783</td>\n",
       "    </tr>\n",
       "    <tr>\n",
       "      <th>6</th>\n",
       "      <td>46.0</td>\n",
       "      <td>41.992122</td>\n",
       "      <td>11.305391</td>\n",
       "      <td>18.619268</td>\n",
       "      <td>35.619284</td>\n",
       "      <td>42.526578</td>\n",
       "      <td>51.130273</td>\n",
       "      <td>64.037547</td>\n",
       "    </tr>\n",
       "    <tr>\n",
       "      <th>7</th>\n",
       "      <td>49.0</td>\n",
       "      <td>46.638887</td>\n",
       "      <td>35.229848</td>\n",
       "      <td>11.181282</td>\n",
       "      <td>32.395863</td>\n",
       "      <td>39.125814</td>\n",
       "      <td>48.931411</td>\n",
       "      <td>181.142320</td>\n",
       "    </tr>\n",
       "    <tr>\n",
       "      <th>8</th>\n",
       "      <td>41.0</td>\n",
       "      <td>54.586152</td>\n",
       "      <td>37.108721</td>\n",
       "      <td>17.851259</td>\n",
       "      <td>35.689842</td>\n",
       "      <td>43.941208</td>\n",
       "      <td>53.906558</td>\n",
       "      <td>170.554947</td>\n",
       "    </tr>\n",
       "    <tr>\n",
       "      <th>9</th>\n",
       "      <td>58.0</td>\n",
       "      <td>42.043683</td>\n",
       "      <td>17.414956</td>\n",
       "      <td>18.282951</td>\n",
       "      <td>35.342094</td>\n",
       "      <td>39.901110</td>\n",
       "      <td>46.054680</td>\n",
       "      <td>146.548799</td>\n",
       "    </tr>\n",
       "    <tr>\n",
       "      <th>10</th>\n",
       "      <td>55.0</td>\n",
       "      <td>41.757639</td>\n",
       "      <td>11.769701</td>\n",
       "      <td>16.566752</td>\n",
       "      <td>34.919483</td>\n",
       "      <td>43.731464</td>\n",
       "      <td>48.518439</td>\n",
       "      <td>70.472339</td>\n",
       "    </tr>\n",
       "    <tr>\n",
       "      <th>11</th>\n",
       "      <td>46.0</td>\n",
       "      <td>50.306996</td>\n",
       "      <td>37.919401</td>\n",
       "      <td>17.199562</td>\n",
       "      <td>37.837988</td>\n",
       "      <td>44.842874</td>\n",
       "      <td>51.489676</td>\n",
       "      <td>234.785567</td>\n",
       "    </tr>\n",
       "    <tr>\n",
       "      <th>12</th>\n",
       "      <td>57.0</td>\n",
       "      <td>39.667929</td>\n",
       "      <td>11.124598</td>\n",
       "      <td>17.158902</td>\n",
       "      <td>32.463265</td>\n",
       "      <td>39.263448</td>\n",
       "      <td>48.048877</td>\n",
       "      <td>66.906387</td>\n",
       "    </tr>\n",
       "    <tr>\n",
       "      <th>13</th>\n",
       "      <td>47.0</td>\n",
       "      <td>48.907498</td>\n",
       "      <td>35.765363</td>\n",
       "      <td>20.478116</td>\n",
       "      <td>36.546576</td>\n",
       "      <td>44.937163</td>\n",
       "      <td>49.855678</td>\n",
       "      <td>236.740804</td>\n",
       "    </tr>\n",
       "    <tr>\n",
       "      <th>14</th>\n",
       "      <td>52.0</td>\n",
       "      <td>52.727809</td>\n",
       "      <td>49.735242</td>\n",
       "      <td>17.808696</td>\n",
       "      <td>29.927927</td>\n",
       "      <td>40.728510</td>\n",
       "      <td>50.719361</td>\n",
       "      <td>251.538932</td>\n",
       "    </tr>\n",
       "    <tr>\n",
       "      <th>15</th>\n",
       "      <td>49.0</td>\n",
       "      <td>43.568084</td>\n",
       "      <td>12.324989</td>\n",
       "      <td>20.161813</td>\n",
       "      <td>35.568276</td>\n",
       "      <td>43.303638</td>\n",
       "      <td>53.131717</td>\n",
       "      <td>67.292269</td>\n",
       "    </tr>\n",
       "    <tr>\n",
       "      <th>16</th>\n",
       "      <td>46.0</td>\n",
       "      <td>51.389364</td>\n",
       "      <td>39.253069</td>\n",
       "      <td>22.433787</td>\n",
       "      <td>35.647676</td>\n",
       "      <td>46.680266</td>\n",
       "      <td>53.154612</td>\n",
       "      <td>256.325524</td>\n",
       "    </tr>\n",
       "    <tr>\n",
       "      <th>17</th>\n",
       "      <td>45.0</td>\n",
       "      <td>38.288269</td>\n",
       "      <td>9.798535</td>\n",
       "      <td>19.108236</td>\n",
       "      <td>31.778867</td>\n",
       "      <td>36.810925</td>\n",
       "      <td>45.637304</td>\n",
       "      <td>60.147340</td>\n",
       "    </tr>\n",
       "    <tr>\n",
       "      <th>18</th>\n",
       "      <td>49.0</td>\n",
       "      <td>43.338124</td>\n",
       "      <td>21.805865</td>\n",
       "      <td>18.671552</td>\n",
       "      <td>30.692510</td>\n",
       "      <td>38.846223</td>\n",
       "      <td>50.369152</td>\n",
       "      <td>168.868788</td>\n",
       "    </tr>\n",
       "    <tr>\n",
       "      <th>19</th>\n",
       "      <td>50.0</td>\n",
       "      <td>47.026706</td>\n",
       "      <td>30.497674</td>\n",
       "      <td>21.119477</td>\n",
       "      <td>34.950322</td>\n",
       "      <td>44.337925</td>\n",
       "      <td>50.568699</td>\n",
       "      <td>246.359169</td>\n",
       "    </tr>\n",
       "  </tbody>\n",
       "</table>\n",
       "</div>"
      ],
      "text/plain": [
       "              food_waste_kg                                              \\\n",
       "                      count       mean        std        min        25%   \n",
       "kitchen_staff                                                             \n",
       "5                      57.0  46.150607  35.981622  20.466625  33.416307   \n",
       "6                      46.0  41.992122  11.305391  18.619268  35.619284   \n",
       "7                      49.0  46.638887  35.229848  11.181282  32.395863   \n",
       "8                      41.0  54.586152  37.108721  17.851259  35.689842   \n",
       "9                      58.0  42.043683  17.414956  18.282951  35.342094   \n",
       "10                     55.0  41.757639  11.769701  16.566752  34.919483   \n",
       "11                     46.0  50.306996  37.919401  17.199562  37.837988   \n",
       "12                     57.0  39.667929  11.124598  17.158902  32.463265   \n",
       "13                     47.0  48.907498  35.765363  20.478116  36.546576   \n",
       "14                     52.0  52.727809  49.735242  17.808696  29.927927   \n",
       "15                     49.0  43.568084  12.324989  20.161813  35.568276   \n",
       "16                     46.0  51.389364  39.253069  22.433787  35.647676   \n",
       "17                     45.0  38.288269   9.798535  19.108236  31.778867   \n",
       "18                     49.0  43.338124  21.805865  18.671552  30.692510   \n",
       "19                     50.0  47.026706  30.497674  21.119477  34.950322   \n",
       "\n",
       "                                                 \n",
       "                     50%        75%         max  \n",
       "kitchen_staff                                    \n",
       "5              37.416231  46.160719  274.328783  \n",
       "6              42.526578  51.130273   64.037547  \n",
       "7              39.125814  48.931411  181.142320  \n",
       "8              43.941208  53.906558  170.554947  \n",
       "9              39.901110  46.054680  146.548799  \n",
       "10             43.731464  48.518439   70.472339  \n",
       "11             44.842874  51.489676  234.785567  \n",
       "12             39.263448  48.048877   66.906387  \n",
       "13             44.937163  49.855678  236.740804  \n",
       "14             40.728510  50.719361  251.538932  \n",
       "15             43.303638  53.131717   67.292269  \n",
       "16             46.680266  53.154612  256.325524  \n",
       "17             36.810925  45.637304   60.147340  \n",
       "18             38.846223  50.369152  168.868788  \n",
       "19             44.337925  50.568699  246.359169  "
      ]
     },
     "execution_count": 143,
     "metadata": {},
     "output_type": "execute_result"
    }
   ],
   "source": [
    "# show how different food waste varies with different number of staff\n",
    "data[[\"kitchen_staff\", \"food_waste_kg\"]].groupby(\"kitchen_staff\").describe()"
   ]
  },
  {
   "cell_type": "code",
   "execution_count": 145,
   "id": "f202e2a9",
   "metadata": {},
   "outputs": [
    {
     "name": "stdout",
     "output_type": "stream",
     "text": [
      "Correlation between kitchen_staff and food_waste: -0.002852455414489096\n"
     ]
    }
   ],
   "source": [
    "corr = data['kitchen_staff'].corr(data['food_waste_kg'])\n",
    "print(\"Correlation between kitchen_staff and food_waste:\", corr)\n"
   ]
  },
  {
   "cell_type": "code",
   "execution_count": 147,
   "id": "3dee0e39",
   "metadata": {},
   "outputs": [
    {
     "name": "stdout",
     "output_type": "stream",
     "text": [
      "\n",
      "📊 Grouped stats of food_waste_kg by: meals_served\n",
      "\n",
      "              count        mean        std         min         25%  \\\n",
      "meals_served                                                         \n",
      "100             4.0   31.917451  10.749045   20.364564   24.237863   \n",
      "101             1.0   16.566752        NaN   16.566752   16.566752   \n",
      "103             1.0   40.969616        NaN   40.969616   40.969616   \n",
      "104             4.0   29.479197   6.495460   23.122558   25.105151   \n",
      "105             1.0   31.400198        NaN   31.400198   31.400198   \n",
      "...             ...         ...        ...         ...         ...   \n",
      "4100            1.0  168.868788        NaN  168.868788  168.868788   \n",
      "4510            1.0  170.554947        NaN  170.554947  170.554947   \n",
      "4590            2.0  170.347774   0.000000  170.347774  170.347774   \n",
      "4680            1.0  251.538932        NaN  251.538932  251.538932   \n",
      "4730            1.0  236.740804        NaN  236.740804  236.740804   \n",
      "\n",
      "                     50%         75%         max  \n",
      "meals_served                                      \n",
      "100            32.014951   39.694539   43.275340  \n",
      "101            16.566752   16.566752   16.566752  \n",
      "103            40.969616   40.969616   40.969616  \n",
      "104            28.493938   32.867984   37.806354  \n",
      "105            31.400198   31.400198   31.400198  \n",
      "...                  ...         ...         ...  \n",
      "4100          168.868788  168.868788  168.868788  \n",
      "4510          170.554947  170.554947  170.554947  \n",
      "4590          170.347774  170.347774  170.347774  \n",
      "4680          251.538932  251.538932  251.538932  \n",
      "4730          236.740804  236.740804  236.740804  \n",
      "\n",
      "[348 rows x 8 columns]\n",
      "\n",
      "📊 Grouped stats of food_waste_kg by: kitchen_staff\n",
      "\n",
      "               count       mean        std        min        25%        50%  \\\n",
      "kitchen_staff                                                                 \n",
      "5               57.0  46.150607  35.981622  20.466625  33.416307  37.416231   \n",
      "6               46.0  41.992122  11.305391  18.619268  35.619284  42.526578   \n",
      "7               49.0  46.638887  35.229848  11.181282  32.395863  39.125814   \n",
      "8               41.0  54.586152  37.108721  17.851259  35.689842  43.941208   \n",
      "9               58.0  42.043683  17.414956  18.282951  35.342094  39.901110   \n",
      "10              55.0  41.757639  11.769701  16.566752  34.919483  43.731464   \n",
      "11              46.0  50.306996  37.919401  17.199562  37.837988  44.842874   \n",
      "12              57.0  39.667929  11.124598  17.158902  32.463265  39.263448   \n",
      "13              47.0  48.907498  35.765363  20.478116  36.546576  44.937163   \n",
      "14              52.0  52.727809  49.735242  17.808696  29.927927  40.728510   \n",
      "15              49.0  43.568084  12.324989  20.161813  35.568276  43.303638   \n",
      "16              46.0  51.389364  39.253069  22.433787  35.647676  46.680266   \n",
      "17              45.0  38.288269   9.798535  19.108236  31.778867  36.810925   \n",
      "18              49.0  43.338124  21.805865  18.671552  30.692510  38.846223   \n",
      "19              50.0  47.026706  30.497674  21.119477  34.950322  44.337925   \n",
      "\n",
      "                     75%         max  \n",
      "kitchen_staff                         \n",
      "5              46.160719  274.328783  \n",
      "6              51.130273   64.037547  \n",
      "7              48.931411  181.142320  \n",
      "8              53.906558  170.554947  \n",
      "9              46.054680  146.548799  \n",
      "10             48.518439   70.472339  \n",
      "11             51.489676  234.785567  \n",
      "12             48.048877   66.906387  \n",
      "13             49.855678  236.740804  \n",
      "14             50.719361  251.538932  \n",
      "15             53.131717   67.292269  \n",
      "16             53.154612  256.325524  \n",
      "17             45.637304   60.147340  \n",
      "18             50.369152  168.868788  \n",
      "19             50.568699  246.359169  \n",
      "\n",
      "📊 Grouped stats of food_waste_kg by: temperature_C\n",
      "\n",
      "               count       mean        std        min        25%        50%  \\\n",
      "temperature_C                                                                 \n",
      "-10.372207       1.0  50.568699        NaN  50.568699  50.568699  50.568699   \n",
      "-10.000000      12.0  50.135781  12.414903  30.175709  44.529378  47.486031   \n",
      " 9.783393        1.0  25.346540        NaN  25.346540  25.346540  25.346540   \n",
      " 10.008313       1.0  49.070737        NaN  49.070737  49.070737  49.070737   \n",
      " 10.025737       1.0  25.346540        NaN  25.346540  25.346540  25.346540   \n",
      "...              ...        ...        ...        ...        ...        ...   \n",
      " 34.803333       1.0  21.233009        NaN  21.233009  21.233009  21.233009   \n",
      " 34.810385       1.0  48.935085        NaN  48.935085  48.935085  48.935085   \n",
      " 34.887012       1.0  58.577422        NaN  58.577422  58.577422  58.577422   \n",
      " 35.116764       1.0  44.971208        NaN  44.971208  44.971208  44.971208   \n",
      " 60.000000       8.0  42.621567  10.403120  33.139494  35.259984  39.059764   \n",
      "\n",
      "                     75%        max  \n",
      "temperature_C                        \n",
      "-10.372207     50.568699  50.568699  \n",
      "-10.000000     54.234742  71.752271  \n",
      " 9.783393      25.346540  25.346540  \n",
      " 10.008313     49.070737  49.070737  \n",
      " 10.025737     25.346540  25.346540  \n",
      "...                  ...        ...  \n",
      " 34.803333     21.233009  21.233009  \n",
      " 34.810385     48.935085  48.935085  \n",
      " 34.887012     58.577422  58.577422  \n",
      " 35.116764     44.971208  44.971208  \n",
      " 60.000000     46.312953  64.037547  \n",
      "\n",
      "[729 rows x 8 columns]\n",
      "\n",
      "📊 Grouped stats of food_waste_kg by: humidity_percent\n",
      "\n",
      "                  count       mean  std        min        25%        50%  \\\n",
      "humidity_percent                                                           \n",
      "30.121111           1.0  43.037453  NaN  43.037453  43.037453  43.037453   \n",
      "30.126231           1.0  20.854053  NaN  20.854053  20.854053  20.854053   \n",
      "30.139053           1.0  45.178594  NaN  45.178594  45.178594  45.178594   \n",
      "30.172875           1.0  18.282951  NaN  18.282951  18.282951  18.282951   \n",
      "30.229028           2.0  48.106298  0.0  48.106298  48.106298  48.106298   \n",
      "...                 ...        ...  ...        ...        ...        ...   \n",
      "89.698882           1.0  41.610041  NaN  41.610041  41.610041  41.610041   \n",
      "89.767377           1.0  39.125814  NaN  39.125814  39.125814  39.125814   \n",
      "89.775737           1.0  43.315664  NaN  43.315664  43.315664  43.315664   \n",
      "89.967975           1.0  46.881005  NaN  46.881005  46.881005  46.881005   \n",
      "89.982828           1.0  55.700980  NaN  55.700980  55.700980  55.700980   \n",
      "\n",
      "                        75%        max  \n",
      "humidity_percent                        \n",
      "30.121111         43.037453  43.037453  \n",
      "30.126231         20.854053  20.854053  \n",
      "30.139053         45.178594  45.178594  \n",
      "30.172875         18.282951  18.282951  \n",
      "30.229028         48.106298  48.106298  \n",
      "...                     ...        ...  \n",
      "89.698882         41.610041  41.610041  \n",
      "89.767377         39.125814  39.125814  \n",
      "89.775737         43.315664  43.315664  \n",
      "89.967975         46.881005  46.881005  \n",
      "89.982828         55.700980  55.700980  \n",
      "\n",
      "[711 rows x 8 columns]\n",
      "\n",
      "📊 Grouped stats of food_waste_kg by: day_of_week\n",
      "\n",
      "             count       mean        std        min        25%        50%  \\\n",
      "day_of_week                                                                 \n",
      "0            114.0  44.213396  20.377823  17.808696  31.828159  43.631257   \n",
      "1            105.0  42.242713  19.548185  18.282951  32.893994  40.632874   \n",
      "2            108.0  49.052370  41.430542  15.029168  33.919633  40.806278   \n",
      "3            102.0  44.773287  26.751127  11.181282  32.803587  42.358458   \n",
      "4            105.0  46.310460  33.095638  17.158902  32.131762  39.660969   \n",
      "5            103.0  46.153960  31.686066  16.566752  32.408724  41.259082   \n",
      "6            110.0  47.057080  26.709401  17.199562  36.810925  43.196210   \n",
      "\n",
      "                   75%         max  \n",
      "day_of_week                         \n",
      "0            49.289587  170.554947  \n",
      "1            48.864517  201.327227  \n",
      "2            50.207226  274.328783  \n",
      "3            51.102872  234.785567  \n",
      "4            50.448210  238.887756  \n",
      "5            48.133449  236.740804  \n",
      "6            50.698079  251.538932  \n",
      "\n",
      "📊 Grouped stats of food_waste_kg by: special_event\n",
      "\n",
      "               count       mean        std        min        25%        50%  \\\n",
      "special_event                                                                 \n",
      "0              681.0  44.615689  28.463364  11.181282  32.834401  40.681990   \n",
      "1               66.0  56.815058  35.059400  21.565545  44.719331  52.857883   \n",
      "\n",
      "                     75%         max  \n",
      "special_event                         \n",
      "0              48.864517  274.328783  \n",
      "1              60.168142  246.359169  \n",
      "\n",
      "📊 Grouped stats of food_waste_kg by: past_waste_kg\n",
      "\n"
     ]
    },
    {
     "name": "stderr",
     "output_type": "stream",
     "text": [
      "C:\\Users\\User\\AppData\\Local\\Temp\\ipykernel_12208\\730408502.py:4: FutureWarning: The default of observed=False is deprecated and will be changed to True in a future version of pandas. Pass observed=False to retain current behavior or observed=True to adopt the future default and silence this warning.\n",
      "  print(data.groupby(col)['food_waste_kg'].describe())\n"
     ]
    },
    {
     "name": "stdout",
     "output_type": "stream",
     "text": [
      "               count       mean  std        min        25%        50%  \\\n",
      "past_waste_kg                                                           \n",
      "5.041824         1.0  33.827441  NaN  33.827441  33.827441  33.827441   \n",
      "5.073969         1.0  17.932967  NaN  17.932967  17.932967  17.932967   \n",
      "5.172672         1.0  23.426333  NaN  23.426333  23.426333  23.426333   \n",
      "5.231283         1.0  28.297747  NaN  28.297747  28.297747  28.297747   \n",
      "5.306661         1.0  18.671552  NaN  18.671552  18.671552  18.671552   \n",
      "...              ...        ...  ...        ...        ...        ...   \n",
      "49.635014        1.0  60.796220  NaN  60.796220  60.796220  60.796220   \n",
      "49.696934        1.0  39.176465  NaN  39.176465  39.176465  39.176465   \n",
      "49.720279        1.0  49.176324  NaN  49.176324  49.176324  49.176324   \n",
      "49.733674        1.0  43.202733  NaN  43.202733  43.202733  43.202733   \n",
      "49.796337        1.0  60.554783  NaN  60.554783  60.554783  60.554783   \n",
      "\n",
      "                     75%        max  \n",
      "past_waste_kg                        \n",
      "5.041824       33.827441  33.827441  \n",
      "5.073969       17.932967  17.932967  \n",
      "5.172672       23.426333  23.426333  \n",
      "5.231283       28.297747  28.297747  \n",
      "5.306661       18.671552  18.671552  \n",
      "...                  ...        ...  \n",
      "49.635014      60.796220  60.796220  \n",
      "49.696934      39.176465  39.176465  \n",
      "49.720279      49.176324  49.176324  \n",
      "49.733674      43.202733  43.202733  \n",
      "49.796337      60.554783  60.554783  \n",
      "\n",
      "[711 rows x 8 columns]\n",
      "\n",
      "📊 Grouped stats of food_waste_kg by: staff_experience\n",
      "\n",
      "                  count       mean        std        min        25%  \\\n",
      "staff_experience                                                      \n",
      "Beginner          191.0  47.854202  30.042198  16.566752  33.584398   \n",
      "Expert            186.0  45.924075  30.556646  17.851259  34.606711   \n",
      "Intermediate      370.0  44.462291  28.230613  11.181282  33.010620   \n",
      "\n",
      "                        50%        75%         max  \n",
      "staff_experience                                    \n",
      "Beginner          42.200424  53.094818  236.740804  \n",
      "Expert            41.400257  50.257973  274.328783  \n",
      "Intermediate      40.949284  49.039082  251.538932  \n",
      "\n",
      "📊 Grouped stats of food_waste_kg by: waste_category\n",
      "\n",
      "                count       mean        std        min        25%        50%  \\\n",
      "waste_category                                                                 \n",
      "dairy           148.0  45.165859  24.310504  17.932967  33.773607  42.981916   \n",
      "grains          142.0  42.884910  21.457108  18.671552  33.375262  40.683689   \n",
      "meat            317.0  46.459318  33.734332  11.181282  33.178693  40.834103   \n",
      "vegetables      140.0  47.366214  30.181446  17.158902  34.311582  42.731744   \n",
      "\n",
      "                      75%         max  \n",
      "waste_category                         \n",
      "dairy           50.274858  185.694333  \n",
      "grains          49.731017  234.785567  \n",
      "meat            49.176324  274.328783  \n",
      "vegetables      52.187900  236.740804  \n"
     ]
    },
    {
     "name": "stderr",
     "output_type": "stream",
     "text": [
      "C:\\Users\\User\\AppData\\Local\\Temp\\ipykernel_12208\\730408502.py:4: FutureWarning: The default of observed=False is deprecated and will be changed to True in a future version of pandas. Pass observed=False to retain current behavior or observed=True to adopt the future default and silence this warning.\n",
      "  print(data.groupby(col)['food_waste_kg'].describe())\n",
      "C:\\Users\\User\\AppData\\Local\\Temp\\ipykernel_12208\\730408502.py:4: FutureWarning: The default of observed=False is deprecated and will be changed to True in a future version of pandas. Pass observed=False to retain current behavior or observed=True to adopt the future default and silence this warning.\n",
      "  print(data.groupby(col)['food_waste_kg'].describe())\n"
     ]
    }
   ],
   "source": [
    "for col in data.columns:\n",
    "    if col != 'food_waste_kg':\n",
    "        print(f\"\\n📊 Grouped stats of food_waste_kg by: {col}\\n\")\n",
    "        print(data.groupby(col)['food_waste_kg'].describe())\n"
   ]
  },
  {
   "cell_type": "code",
   "execution_count": 149,
   "id": "368ed397",
   "metadata": {},
   "outputs": [],
   "source": [
    "\n",
    "\n",
    "# Binning temperature into 3 categories: Cold, Mild, Hot\n",
    "data['temperature_bin'] = pd.cut(data['temperature_C'],\n",
    "                                bins=[-float('inf'), 20, 28, float('inf')],\n",
    "                                labels=['Cold', 'Mild', 'Hot'])\n",
    "\n",
    "# Binning humidity into 3 categories: Low, Medium, High\n",
    "data['humidity_bin'] = pd.cut(data['humidity_percent'],\n",
    "                             bins=[-float('inf'), 40, 60, float('inf')],\n",
    "                             labels=['Low', 'Medium', 'High'])\n",
    "\n",
    "# Binning past_waste_kg into quartiles (4 bins) using quantiles\n",
    "data['past_waste_bin'] = pd.qcut(data['past_waste_kg'], q=4, labels=['Low', 'Medium', 'High', 'Very High'])\n"
   ]
  },
  {
   "cell_type": "code",
   "execution_count": 150,
   "id": "89834391",
   "metadata": {},
   "outputs": [
    {
     "name": "stdout",
     "output_type": "stream",
     "text": [
      "\n",
      "📊 Grouped food_waste_kg by: temperature_bin\n",
      "\n",
      "                 count       mean        std        min        25%        50%  \\\n",
      "temperature_bin                                                                 \n",
      "Cold             325.0  47.465646  34.070784  11.181282  32.704704  41.411396   \n",
      "Mild             206.0  43.929285  23.725348  15.029168  32.256980  41.606487   \n",
      "Hot              216.0  44.709770  26.093934  17.199562  34.971153  40.949284   \n",
      "\n",
      "                       75%         max  \n",
      "temperature_bin                         \n",
      "Cold             50.262095  274.328783  \n",
      "Mild             51.104064  251.538932  \n",
      "Hot              49.808756  256.325524  \n",
      "\n",
      "📊 Grouped food_waste_kg by: humidity_bin\n",
      "\n",
      "              count       mean        std        min        25%        50%  \\\n",
      "humidity_bin                                                                 \n",
      "Low           120.0  47.248120  43.759940  11.181282  31.211599  38.149240   \n",
      "Medium        242.0  46.279572  27.976324  15.029168  34.040727  42.142971   \n",
      "High          385.0  44.840642  24.077038  16.566752  34.234895  41.905912   \n",
      "\n",
      "                    75%         max  \n",
      "humidity_bin                         \n",
      "Low           48.106298  274.328783  \n",
      "Medium        50.274907  256.325524  \n",
      "High          51.020671  236.740804  \n",
      "\n",
      "📊 Grouped food_waste_kg by: past_waste_bin\n",
      "\n",
      "                count       mean        std        min        25%        50%  \\\n",
      "past_waste_bin                                                                 \n",
      "Low             187.0  36.670658  29.035019  11.181282  24.366622  30.575654   \n",
      "Medium          187.0  44.484700  36.154836  17.158902  30.861518  37.298723   \n",
      "High            186.0  47.314246  22.213561  28.308516  38.984799  44.375320   \n",
      "Very High       187.0  54.313243  25.257405  30.167843  45.034554  51.946074   \n",
      "\n",
      "                      75%         max  \n",
      "past_waste_bin                         \n",
      "Low             37.946648  236.740804  \n",
      "Medium          43.826198  251.538932  \n",
      "High            50.568699  256.325524  \n",
      "Very High       58.631934  274.328783  \n"
     ]
    },
    {
     "name": "stderr",
     "output_type": "stream",
     "text": [
      "C:\\Users\\User\\AppData\\Local\\Temp\\ipykernel_12208\\3993886269.py:4: FutureWarning: The default of observed=False is deprecated and will be changed to True in a future version of pandas. Pass observed=False to retain current behavior or observed=True to adopt the future default and silence this warning.\n",
      "  print(data.groupby(col)['food_waste_kg'].describe())\n",
      "C:\\Users\\User\\AppData\\Local\\Temp\\ipykernel_12208\\3993886269.py:4: FutureWarning: The default of observed=False is deprecated and will be changed to True in a future version of pandas. Pass observed=False to retain current behavior or observed=True to adopt the future default and silence this warning.\n",
      "  print(data.groupby(col)['food_waste_kg'].describe())\n",
      "C:\\Users\\User\\AppData\\Local\\Temp\\ipykernel_12208\\3993886269.py:4: FutureWarning: The default of observed=False is deprecated and will be changed to True in a future version of pandas. Pass observed=False to retain current behavior or observed=True to adopt the future default and silence this warning.\n",
      "  print(data.groupby(col)['food_waste_kg'].describe())\n"
     ]
    }
   ],
   "source": [
    "# Grouped food waste stats for binned features\n",
    "for col in ['temperature_bin', 'humidity_bin', 'past_waste_bin']:\n",
    "    print(f\"\\n📊 Grouped food_waste_kg by: {col}\\n\")\n",
    "    print(data.groupby(col)['food_waste_kg'].describe())\n"
   ]
  },
  {
   "cell_type": "code",
   "execution_count": 152,
   "id": "0d2d7a03",
   "metadata": {},
   "outputs": [
    {
     "name": "stderr",
     "output_type": "stream",
     "text": [
      "C:\\Users\\User\\AppData\\Local\\Temp\\ipykernel_12208\\3826001862.py:13: FutureWarning: \n",
      "\n",
      "Passing `palette` without assigning `hue` is deprecated and will be removed in v0.14.0. Assign the `x` variable to `hue` and set `legend=False` for the same effect.\n",
      "\n",
      "  sns.boxplot(x=col, y='food_waste_kg', data=data, palette='Set2')\n"
     ]
    },
    {
     "data": {
      "image/png": "[encoded data removed]",
      "text/plain": [
       "<Figure size 800x500 with 1 Axes>"
      ]
     },
     "metadata": {},
     "output_type": "display_data"
    },
    {
     "name": "stderr",
     "output_type": "stream",
     "text": [
      "C:\\Users\\User\\AppData\\Local\\Temp\\ipykernel_12208\\3826001862.py:13: FutureWarning: \n",
      "\n",
      "Passing `palette` without assigning `hue` is deprecated and will be removed in v0.14.0. Assign the `x` variable to `hue` and set `legend=False` for the same effect.\n",
      "\n",
      "  sns.boxplot(x=col, y='food_waste_kg', data=data, palette='Set2')\n"
     ]
    },
    {
     "data": {
      "image/png": "[encoded data removed]",
      "text/plain": [
       "<Figure size 800x500 with 1 Axes>"
      ]
     },
     "metadata": {},
     "output_type": "display_data"
    },
    {
     "name": "stderr",
     "output_type": "stream",
     "text": [
      "C:\\Users\\User\\AppData\\Local\\Temp\\ipykernel_12208\\3826001862.py:13: FutureWarning: \n",
      "\n",
      "Passing `palette` without assigning `hue` is deprecated and will be removed in v0.14.0. Assign the `x` variable to `hue` and set `legend=False` for the same effect.\n",
      "\n",
      "  sns.boxplot(x=col, y='food_waste_kg', data=data, palette='Set2')\n"
     ]
    },
    {
     "data": {
      "image/png": "[encoded data removed]",
      "text/plain": [
       "<Figure size 800x500 with 1 Axes>"
      ]
     },
     "metadata": {},
     "output_type": "display_data"
    }
   ],
   "source": [
    "import seaborn as sns\n",
    "import matplotlib.pyplot as plt\n",
    "\n",
    "# Set style\n",
    "sns.set(style=\"whitegrid\")\n",
    "\n",
    "# List of binned columns to plot\n",
    "binned_cols = ['temperature_bin', 'humidity_bin', 'past_waste_bin']\n",
    "\n",
    "# Create boxplots\n",
    "for col in binned_cols:\n",
    "    plt.figure(figsize=(8, 5))\n",
    "    sns.boxplot(x=col, y='food_waste_kg', data=data, palette='Set2')\n",
    "    plt.title(f'Food Waste Distribution by {col}', fontsize=14)\n",
    "    plt.xlabel(col.replace('_', ' ').title())\n",
    "    plt.ylabel('Food Waste (kg)')\n",
    "    plt.tight_layout()\n",
    "    plt.show()\n"
   ]
  },
  {
   "cell_type": "code",
   "execution_count": null,
   "id": "6a87b789",
   "metadata": {},
   "outputs": [],
   "source": []
  }
 ],
 "metadata": {
  "kernelspec": {
   "display_name": "base",
   "language": "python",
   "name": "python3"
  },
  "language_info": {
   "codemirror_mode": {
    "name": "ipython",
    "version": 3
   },
   "file_extension": ".py",
   "mimetype": "text/x-python",
   "name": "python",
   "nbconvert_exporter": "python",
   "pygments_lexer": "ipython3",
   "version": "3.12.7"
  }
 },
 "nbformat": 4,
 "nbformat_minor": 5
}
