{
 "cells": [
  {
   "cell_type": "markdown",
   "id": "39e5ea85",
   "metadata": {},
   "source": [
    "## EDA1: TRAIN DATA\n",
    "\n"
   ]
  },
  {
   "cell_type": "code",
   "execution_count": 186,
   "id": "b9728aef",
   "metadata": {},
   "outputs": [],
   "source": [
    "# importing data manipulation library\n",
    "import pandas as pd\n",
    "import numpy as np\n"
   ]
  },
  {
   "cell_type": "code",
   "execution_count": 187,
   "id": "21aafe76",
   "metadata": {},
   "outputs": [],
   "source": [
    "data =pd.read_csv(r\"C:\\Users\\User\\Desktop\\Messy-Food-Waste-Prediction\\data\\raw_data\\train.csv\")"
   ]
  },
  {
   "cell_type": "code",
   "execution_count": 188,
   "id": "4d897603",
   "metadata": {},
   "outputs": [
    {
     "data": {
      "text/html": [
       "<div>\n",
       "<style scoped>\n",
       "    .dataframe tbody tr th:only-of-type {\n",
       "        vertical-align: middle;\n",
       "    }\n",
       "\n",
       "    .dataframe tbody tr th {\n",
       "        vertical-align: top;\n",
       "    }\n",
       "\n",
       "    .dataframe thead th {\n",
       "        text-align: right;\n",
       "    }\n",
       "</style>\n",
       "<table border=\"1\" class=\"dataframe\">\n",
       "  <thead>\n",
       "    <tr style=\"text-align: right;\">\n",
       "      <th></th>\n",
       "      <th>ID</th>\n",
       "      <th>date</th>\n",
       "      <th>meals_served</th>\n",
       "      <th>kitchen_staff</th>\n",
       "      <th>temperature_C</th>\n",
       "      <th>humidity_percent</th>\n",
       "      <th>day_of_week</th>\n",
       "      <th>special_event</th>\n",
       "      <th>past_waste_kg</th>\n",
       "      <th>staff_experience</th>\n",
       "      <th>waste_category</th>\n",
       "      <th>food_waste_kg</th>\n",
       "    </tr>\n",
       "  </thead>\n",
       "  <tbody>\n",
       "    <tr>\n",
       "      <th>0</th>\n",
       "      <td>0</td>\n",
       "      <td>2022-12-19</td>\n",
       "      <td>196</td>\n",
       "      <td>13</td>\n",
       "      <td>27.887273</td>\n",
       "      <td>45.362854</td>\n",
       "      <td>0</td>\n",
       "      <td>0</td>\n",
       "      <td>7.740587</td>\n",
       "      <td>intermediate</td>\n",
       "      <td>dairy</td>\n",
       "      <td>28.946465</td>\n",
       "    </tr>\n",
       "    <tr>\n",
       "      <th>1</th>\n",
       "      <td>1</td>\n",
       "      <td>2023-11-21</td>\n",
       "      <td>244</td>\n",
       "      <td>15</td>\n",
       "      <td>10.317872</td>\n",
       "      <td>64.430475</td>\n",
       "      <td>1</td>\n",
       "      <td>0</td>\n",
       "      <td>42.311779</td>\n",
       "      <td>NaN</td>\n",
       "      <td>MeAt</td>\n",
       "      <td>51.549053</td>\n",
       "    </tr>\n",
       "    <tr>\n",
       "      <th>2</th>\n",
       "      <td>4</td>\n",
       "      <td>2022-02-01</td>\n",
       "      <td>148</td>\n",
       "      <td>16</td>\n",
       "      <td>27.714300</td>\n",
       "      <td>69.046113</td>\n",
       "      <td>1</td>\n",
       "      <td>0</td>\n",
       "      <td>41.184305</td>\n",
       "      <td>Beginner</td>\n",
       "      <td>MeAt</td>\n",
       "      <td>53.008323</td>\n",
       "    </tr>\n",
       "    <tr>\n",
       "      <th>3</th>\n",
       "      <td>5</td>\n",
       "      <td>2023-03-19</td>\n",
       "      <td>157</td>\n",
       "      <td>19</td>\n",
       "      <td>19.173902</td>\n",
       "      <td>46.292823</td>\n",
       "      <td>6</td>\n",
       "      <td>0</td>\n",
       "      <td>41.543492</td>\n",
       "      <td>Beginner</td>\n",
       "      <td>MeAt</td>\n",
       "      <td>48.621527</td>\n",
       "    </tr>\n",
       "    <tr>\n",
       "      <th>4</th>\n",
       "      <td>6</td>\n",
       "      <td>2022-07-18</td>\n",
       "      <td>297</td>\n",
       "      <td>10</td>\n",
       "      <td>26.375233</td>\n",
       "      <td>79.741064</td>\n",
       "      <td>0</td>\n",
       "      <td>0</td>\n",
       "      <td>26.525097</td>\n",
       "      <td>Intermediate</td>\n",
       "      <td>MEAT</td>\n",
       "      <td>44.156984</td>\n",
       "    </tr>\n",
       "  </tbody>\n",
       "</table>\n",
       "</div>"
      ],
      "text/plain": [
       "   ID        date  meals_served  kitchen_staff  temperature_C  \\\n",
       "0   0  2022-12-19           196             13      27.887273   \n",
       "1   1  2023-11-21           244             15      10.317872   \n",
       "2   4  2022-02-01           148             16      27.714300   \n",
       "3   5  2023-03-19           157             19      19.173902   \n",
       "4   6  2022-07-18           297             10      26.375233   \n",
       "\n",
       "   humidity_percent  day_of_week  special_event  past_waste_kg  \\\n",
       "0         45.362854            0              0       7.740587   \n",
       "1         64.430475            1              0      42.311779   \n",
       "2         69.046113            1              0      41.184305   \n",
       "3         46.292823            6              0      41.543492   \n",
       "4         79.741064            0              0      26.525097   \n",
       "\n",
       "  staff_experience waste_category  food_waste_kg  \n",
       "0     intermediate          dairy      28.946465  \n",
       "1              NaN           MeAt      51.549053  \n",
       "2         Beginner           MeAt      53.008323  \n",
       "3         Beginner           MeAt      48.621527  \n",
       "4     Intermediate           MEAT      44.156984  "
      ]
     },
     "execution_count": 188,
     "metadata": {},
     "output_type": "execute_result"
    }
   ],
   "source": [
    "data.head()"
   ]
  },
  {
   "cell_type": "markdown",
   "id": "dd4da0e9",
   "metadata": {},
   "source": [
    "## Exploratory Data Analysis"
   ]
  },
  {
   "cell_type": "code",
   "execution_count": 189,
   "id": "678669d0",
   "metadata": {},
   "outputs": [
    {
     "name": "stdout",
     "output_type": "stream",
     "text": [
      "<class 'pandas.core.frame.DataFrame'>\n",
      "RangeIndex: 911 entries, 0 to 910\n",
      "Data columns (total 12 columns):\n",
      " #   Column            Non-Null Count  Dtype  \n",
      "---  ------            --------------  -----  \n",
      " 0   ID                911 non-null    int64  \n",
      " 1   date              911 non-null    object \n",
      " 2   meals_served      911 non-null    int64  \n",
      " 3   kitchen_staff     911 non-null    int64  \n",
      " 4   temperature_C     911 non-null    float64\n",
      " 5   humidity_percent  911 non-null    float64\n",
      " 6   day_of_week       911 non-null    int64  \n",
      " 7   special_event     911 non-null    int64  \n",
      " 8   past_waste_kg     911 non-null    float64\n",
      " 9   staff_experience  747 non-null    object \n",
      " 10  waste_category    911 non-null    object \n",
      " 11  food_waste_kg     911 non-null    float64\n",
      "dtypes: float64(4), int64(5), object(3)\n",
      "memory usage: 85.5+ KB\n"
     ]
    }
   ],
   "source": [
    "# checking the information about the data\n",
    "data.info()"
   ]
  },
  {
   "cell_type": "code",
   "execution_count": 190,
   "id": "58cfb1ff",
   "metadata": {},
   "outputs": [
    {
     "data": {
      "text/plain": [
       "(911, 12)"
      ]
     },
     "execution_count": 190,
     "metadata": {},
     "output_type": "execute_result"
    }
   ],
   "source": [
    "# checking out the number of rows and columns in the data\n",
    "\n",
    "data.shape"
   ]
  },
  {
   "cell_type": "code",
   "execution_count": 191,
   "id": "a14717d8",
   "metadata": {},
   "outputs": [
    {
     "data": {
      "text/plain": [
       "Index(['ID', 'date', 'meals_served', 'kitchen_staff', 'temperature_C',\n",
       "       'humidity_percent', 'day_of_week', 'special_event', 'past_waste_kg',\n",
       "       'staff_experience', 'waste_category', 'food_waste_kg'],\n",
       "      dtype='object')"
      ]
     },
     "execution_count": 191,
     "metadata": {},
     "output_type": "execute_result"
    }
   ],
   "source": [
    "# listing out the columns in the data set\n",
    "data.columns"
   ]
  },
  {
   "cell_type": "code",
   "execution_count": 192,
   "id": "3b28061a",
   "metadata": {},
   "outputs": [],
   "source": [
    "# dropping the ID and date columns as they are not useful for analysis\n",
    "data.drop(columns=['ID', \"date\"], inplace=True\n",
    "          )"
   ]
  },
  {
   "cell_type": "code",
   "execution_count": 193,
   "id": "2a24e399",
   "metadata": {},
   "outputs": [
    {
     "data": {
      "text/plain": [
       "Index(['meals_served', 'kitchen_staff', 'temperature_C', 'humidity_percent',\n",
       "       'day_of_week', 'special_event', 'past_waste_kg', 'staff_experience',\n",
       "       'waste_category', 'food_waste_kg'],\n",
       "      dtype='object')"
      ]
     },
     "execution_count": 193,
     "metadata": {},
     "output_type": "execute_result"
    }
   ],
   "source": [
    "data.columns"
   ]
  },
  {
   "cell_type": "code",
   "execution_count": 194,
   "id": "492f0008",
   "metadata": {},
   "outputs": [
    {
     "name": "stdout",
     "output_type": "stream",
     "text": [
      "columns: staff_experience | missing values: 164\n"
     ]
    }
   ],
   "source": [
    "# checking for missing values in the data\n",
    "for column in data.columns:\n",
    "    if data[column].isnull().any():\n",
    "        print(f\"columns: {column} | missing values: {data[column].isnull().sum()}\")\n"
   ]
  },
  {
   "cell_type": "code",
   "execution_count": 195,
   "id": "ed790b0a",
   "metadata": {},
   "outputs": [
    {
     "name": "stdout",
     "output_type": "stream",
     "text": [
      "no duplicate rows found\n"
     ]
    }
   ],
   "source": [
    "# checking for duplicate rows in the data\n",
    "duplicate_rows = data.duplicated().sum()\n",
    "if duplicate_rows > 0:\n",
    "    print(f\"duplicate row found: {duplicate_rows}\")\n",
    "else:\n",
    "    print(\"no duplicate rows found\")"
   ]
  },
  {
   "cell_type": "code",
   "execution_count": 196,
   "id": "103c0fb6",
   "metadata": {},
   "outputs": [
    {
     "name": "stdout",
     "output_type": "stream",
     "text": [
      "object\n"
     ]
    }
   ],
   "source": [
    "# check the data type of staff_experience\n",
    "print (data[\"staff_experience\"].dtypes)"
   ]
  },
  {
   "cell_type": "code",
   "execution_count": 197,
   "id": "43821d82",
   "metadata": {},
   "outputs": [
    {
     "name": "stdout",
     "output_type": "stream",
     "text": [
      "staff_experience\n",
      "Beginner        191\n",
      "Intermediate    186\n",
      "EXPERT          186\n",
      "intermediate    184\n",
      "Name: count, dtype: int64\n"
     ]
    }
   ],
   "source": [
    "duplicate_values = data[\"staff_experience\"].value_counts()\n",
    "print (duplicate_values [duplicate_values > 1])\n"
   ]
  },
  {
   "cell_type": "code",
   "execution_count": 198,
   "id": "8e60958a",
   "metadata": {},
   "outputs": [],
   "source": [
    "data[\"staff_experience\"] = data[\"staff_experience\"].replace (\"intermediate\", \"Intermediate\")"
   ]
  },
  {
   "cell_type": "code",
   "execution_count": 199,
   "id": "d125a5ab",
   "metadata": {},
   "outputs": [],
   "source": [
    "data[\"staff_experience\"] = data[\"staff_experience\"].replace(\n",
    "    {\n",
    "        \"EXPERT\": \"Expert\"\n",
    "    }\n",
    ")"
   ]
  },
  {
   "cell_type": "code",
   "execution_count": 200,
   "id": "b6ebef70",
   "metadata": {},
   "outputs": [
    {
     "data": {
      "text/plain": [
       "Index(['meals_served', 'kitchen_staff', 'temperature_C', 'humidity_percent',\n",
       "       'day_of_week', 'special_event', 'past_waste_kg', 'staff_experience',\n",
       "       'waste_category', 'food_waste_kg'],\n",
       "      dtype='object')"
      ]
     },
     "execution_count": 200,
     "metadata": {},
     "output_type": "execute_result"
    }
   ],
   "source": [
    "data.columns"
   ]
  },
  {
   "cell_type": "code",
   "execution_count": 201,
   "id": "4c5465c4",
   "metadata": {},
   "outputs": [
    {
     "data": {
      "text/plain": [
       "staff_experience\n",
       "False    747\n",
       "True     164\n",
       "Name: count, dtype: int64"
      ]
     },
     "execution_count": 201,
     "metadata": {},
     "output_type": "execute_result"
    }
   ],
   "source": [
    "# lets deal with the objects in the columns\n",
    "# we have staff_experience and waste_category\n",
    "data[\"staff_experience\"].isna().value_counts()\n"
   ]
  },
  {
   "cell_type": "code",
   "execution_count": 202,
   "id": "df16009c",
   "metadata": {},
   "outputs": [],
   "source": [
    "# we will drop nan values in staff_experience, since the percentage of nan value is very small compared to the data\n",
    "data = data.dropna(subset=[\"staff_experience\"])\n"
   ]
  },
  {
   "cell_type": "code",
   "execution_count": 203,
   "id": "df8e0a2f",
   "metadata": {},
   "outputs": [
    {
     "data": {
      "text/plain": [
       "0"
      ]
     },
     "execution_count": 203,
     "metadata": {},
     "output_type": "execute_result"
    }
   ],
   "source": [
    "data[\"waste_category\"].isna().sum()\n"
   ]
  },
  {
   "cell_type": "code",
   "execution_count": 204,
   "id": "35e89348",
   "metadata": {},
   "outputs": [
    {
     "data": {
      "text/plain": [
       "waste_category\n",
       "MEAT          176\n",
       "dairy         148\n",
       "GRAINS        142\n",
       "MeAt          141\n",
       "Vegetables    140\n",
       "Name: count, dtype: int64"
      ]
     },
     "execution_count": 204,
     "metadata": {},
     "output_type": "execute_result"
    }
   ],
   "source": [
    "data[\"waste_category\"].value_counts()"
   ]
  },
  {
   "cell_type": "code",
   "execution_count": 205,
   "id": "d6a22942",
   "metadata": {},
   "outputs": [],
   "source": [
    "# convert the data type of waste_category from int to string\n",
    "data[\"waste_category\"] = data[\"waste_category\"].astype(str)"
   ]
  },
  {
   "cell_type": "code",
   "execution_count": 206,
   "id": "b6972753",
   "metadata": {},
   "outputs": [
    {
     "data": {
      "text/plain": [
       "waste_category\n",
       "MEAT          176\n",
       "dairy         148\n",
       "GRAINS        142\n",
       "MeAt          141\n",
       "Vegetables    140\n",
       "Name: count, dtype: int64"
      ]
     },
     "execution_count": 206,
     "metadata": {},
     "output_type": "execute_result"
    }
   ],
   "source": [
    "data[\"waste_category\"].value_counts()"
   ]
  },
  {
   "cell_type": "code",
   "execution_count": 207,
   "id": "6c998af3",
   "metadata": {},
   "outputs": [],
   "source": [
    "data[\"waste_category\"] = data[\"waste_category\"].str.lower()"
   ]
  },
  {
   "cell_type": "code",
   "execution_count": 208,
   "id": "37a2722d",
   "metadata": {},
   "outputs": [
    {
     "data": {
      "text/plain": [
       "waste_category\n",
       "meat          317\n",
       "dairy         148\n",
       "grains        142\n",
       "vegetables    140\n",
       "Name: count, dtype: int64"
      ]
     },
     "execution_count": 208,
     "metadata": {},
     "output_type": "execute_result"
    }
   ],
   "source": [
    "data[\"waste_category\"].value_counts()"
   ]
  },
  {
   "cell_type": "code",
   "execution_count": 209,
   "id": "6c8444aa",
   "metadata": {},
   "outputs": [],
   "source": [
    "data[\"waste_category\"] = data[\"waste_category\"].astype(str)"
   ]
  },
  {
   "cell_type": "code",
   "execution_count": 210,
   "id": "dae4dbfa",
   "metadata": {},
   "outputs": [
    {
     "data": {
      "text/plain": [
       "0"
      ]
     },
     "execution_count": 210,
     "metadata": {},
     "output_type": "execute_result"
    }
   ],
   "source": [
    "data[\"staff_experience\"].isna().sum()\n"
   ]
  },
  {
   "cell_type": "code",
   "execution_count": 211,
   "id": "ccc383cf",
   "metadata": {},
   "outputs": [
    {
     "name": "stdout",
     "output_type": "stream",
     "text": [
      "<class 'pandas.core.frame.DataFrame'>\n",
      "Index: 747 entries, 0 to 910\n",
      "Data columns (total 10 columns):\n",
      " #   Column            Non-Null Count  Dtype  \n",
      "---  ------            --------------  -----  \n",
      " 0   meals_served      747 non-null    int64  \n",
      " 1   kitchen_staff     747 non-null    int64  \n",
      " 2   temperature_C     747 non-null    float64\n",
      " 3   humidity_percent  747 non-null    float64\n",
      " 4   day_of_week       747 non-null    int64  \n",
      " 5   special_event     747 non-null    int64  \n",
      " 6   past_waste_kg     747 non-null    float64\n",
      " 7   staff_experience  747 non-null    object \n",
      " 8   waste_category    747 non-null    object \n",
      " 9   food_waste_kg     747 non-null    float64\n",
      "dtypes: float64(4), int64(4), object(2)\n",
      "memory usage: 64.2+ KB\n"
     ]
    }
   ],
   "source": [
    "data.info()"
   ]
  },
  {
   "cell_type": "code",
   "execution_count": 212,
   "id": "f21f4880",
   "metadata": {},
   "outputs": [
    {
     "data": {
      "text/plain": [
       "special_event\n",
       "0    681\n",
       "1     66\n",
       "Name: count, dtype: int64"
      ]
     },
     "execution_count": 212,
     "metadata": {},
     "output_type": "execute_result"
    }
   ],
   "source": [
    "data[\"special_event\"].value_counts()"
   ]
  },
  {
   "cell_type": "code",
   "execution_count": 213,
   "id": "d06aab80",
   "metadata": {},
   "outputs": [],
   "source": [
    "cols = [\"special_event\", \"staff_experience\", \"waste_category\"]\n",
    "data[cols] = data[cols].astype(\"category\")\n"
   ]
  },
  {
   "cell_type": "code",
   "execution_count": 214,
   "id": "2594d00f",
   "metadata": {},
   "outputs": [
    {
     "name": "stdout",
     "output_type": "stream",
     "text": [
      "<class 'pandas.core.frame.DataFrame'>\n",
      "Index: 747 entries, 0 to 910\n",
      "Data columns (total 10 columns):\n",
      " #   Column            Non-Null Count  Dtype   \n",
      "---  ------            --------------  -----   \n",
      " 0   meals_served      747 non-null    int64   \n",
      " 1   kitchen_staff     747 non-null    int64   \n",
      " 2   temperature_C     747 non-null    float64 \n",
      " 3   humidity_percent  747 non-null    float64 \n",
      " 4   day_of_week       747 non-null    int64   \n",
      " 5   special_event     747 non-null    category\n",
      " 6   past_waste_kg     747 non-null    float64 \n",
      " 7   staff_experience  747 non-null    category\n",
      " 8   waste_category    747 non-null    category\n",
      " 9   food_waste_kg     747 non-null    float64 \n",
      "dtypes: category(3), float64(4), int64(3)\n",
      "memory usage: 49.3 KB\n"
     ]
    }
   ],
   "source": [
    "data.info()"
   ]
  },
  {
   "cell_type": "code",
   "execution_count": 215,
   "id": "95a0a523",
   "metadata": {},
   "outputs": [],
   "source": [
    "def handle_outlier(data, columns, method=\"IQR\", threshold=1.5, strategy=\"replace\"):\n",
    "    for col in columns:\n",
    "        if method == \"IQR\":\n",
    "            Q1 = data[col].quantile(0.25)\n",
    "            Q3 = data[col].quantile(0.75)\n",
    "            IQR = Q3 - Q1\n",
    "            lower_bound = Q1 - threshold * IQR\n",
    "            upper_bound = Q3 + threshold * IQR\n",
    "\n",
    "        elif method == \"Z-score\":\n",
    "            mean = data[col].mean()\n",
    "            std = data[col].std()\n",
    "            lower_bound = mean - threshold * std\n",
    "            upper_bound = mean + threshold * std\n",
    "\n",
    "        else:\n",
    "            print(\"Invalid method\")\n",
    "            continue\n",
    "\n",
    "        if strategy == \"replace\":\n",
    "            # Replace outliers with boundary values (clipping)\n",
    "            data[col] = np.clip(data[col], lower_bound, upper_bound)\n",
    "        elif strategy == \"remove\":\n",
    "            # Remove rows with outliers\n",
    "            data = data[(data[col] >= lower_bound) & (data[col] <= upper_bound)]\n",
    "        else:\n",
    "            print(\"Invalid strategy. Choose 'replace' or 'remove'.\")\n",
    "\n",
    "    return data\n"
   ]
  },
  {
   "cell_type": "code",
   "execution_count": 216,
   "id": "d8df298e",
   "metadata": {},
   "outputs": [],
   "source": [
    "columns_to_process = [\"temperature_C\", \"meals_served\", \"food_waste_kg\"]\n",
    "data = handle_outlier(data, columns_to_process, method=\"IQR\", threshold=0.75, strategy=\"replace\")\n"
   ]
  },
  {
   "cell_type": "code",
   "execution_count": 217,
   "id": "36693274",
   "metadata": {},
   "outputs": [],
   "source": [
    "data.drop_duplicates(inplace=True)"
   ]
  },
  {
   "cell_type": "code",
   "execution_count": 218,
   "id": "707ca98a",
   "metadata": {},
   "outputs": [
    {
     "data": {
      "text/html": [
       "<div>\n",
       "<style scoped>\n",
       "    .dataframe tbody tr th:only-of-type {\n",
       "        vertical-align: middle;\n",
       "    }\n",
       "\n",
       "    .dataframe tbody tr th {\n",
       "        vertical-align: top;\n",
       "    }\n",
       "\n",
       "    .dataframe thead th {\n",
       "        text-align: right;\n",
       "    }\n",
       "</style>\n",
       "<table border=\"1\" class=\"dataframe\">\n",
       "  <thead>\n",
       "    <tr style=\"text-align: right;\">\n",
       "      <th></th>\n",
       "      <th>meals_served</th>\n",
       "      <th>kitchen_staff</th>\n",
       "      <th>temperature_C</th>\n",
       "      <th>humidity_percent</th>\n",
       "      <th>day_of_week</th>\n",
       "      <th>special_event</th>\n",
       "      <th>past_waste_kg</th>\n",
       "      <th>staff_experience</th>\n",
       "      <th>waste_category</th>\n",
       "      <th>food_waste_kg</th>\n",
       "    </tr>\n",
       "  </thead>\n",
       "  <tbody>\n",
       "    <tr>\n",
       "      <th>0</th>\n",
       "      <td>196.0</td>\n",
       "      <td>13</td>\n",
       "      <td>27.887273</td>\n",
       "      <td>45.362854</td>\n",
       "      <td>0</td>\n",
       "      <td>0</td>\n",
       "      <td>7.740587</td>\n",
       "      <td>Intermediate</td>\n",
       "      <td>dairy</td>\n",
       "      <td>28.946465</td>\n",
       "    </tr>\n",
       "    <tr>\n",
       "      <th>2</th>\n",
       "      <td>148.0</td>\n",
       "      <td>16</td>\n",
       "      <td>27.714300</td>\n",
       "      <td>69.046113</td>\n",
       "      <td>1</td>\n",
       "      <td>0</td>\n",
       "      <td>41.184305</td>\n",
       "      <td>Beginner</td>\n",
       "      <td>meat</td>\n",
       "      <td>53.008323</td>\n",
       "    </tr>\n",
       "    <tr>\n",
       "      <th>3</th>\n",
       "      <td>157.0</td>\n",
       "      <td>19</td>\n",
       "      <td>19.173902</td>\n",
       "      <td>46.292823</td>\n",
       "      <td>6</td>\n",
       "      <td>0</td>\n",
       "      <td>41.543492</td>\n",
       "      <td>Beginner</td>\n",
       "      <td>meat</td>\n",
       "      <td>48.621527</td>\n",
       "    </tr>\n",
       "    <tr>\n",
       "      <th>4</th>\n",
       "      <td>297.0</td>\n",
       "      <td>10</td>\n",
       "      <td>26.375233</td>\n",
       "      <td>79.741064</td>\n",
       "      <td>0</td>\n",
       "      <td>0</td>\n",
       "      <td>26.525097</td>\n",
       "      <td>Intermediate</td>\n",
       "      <td>meat</td>\n",
       "      <td>44.156984</td>\n",
       "    </tr>\n",
       "    <tr>\n",
       "      <th>5</th>\n",
       "      <td>241.0</td>\n",
       "      <td>18</td>\n",
       "      <td>16.863506</td>\n",
       "      <td>79.285919</td>\n",
       "      <td>3</td>\n",
       "      <td>0</td>\n",
       "      <td>11.834878</td>\n",
       "      <td>Intermediate</td>\n",
       "      <td>dairy</td>\n",
       "      <td>27.393670</td>\n",
       "    </tr>\n",
       "    <tr>\n",
       "      <th>...</th>\n",
       "      <td>...</td>\n",
       "      <td>...</td>\n",
       "      <td>...</td>\n",
       "      <td>...</td>\n",
       "      <td>...</td>\n",
       "      <td>...</td>\n",
       "      <td>...</td>\n",
       "      <td>...</td>\n",
       "      <td>...</td>\n",
       "      <td>...</td>\n",
       "    </tr>\n",
       "    <tr>\n",
       "      <th>906</th>\n",
       "      <td>395.0</td>\n",
       "      <td>18</td>\n",
       "      <td>17.354199</td>\n",
       "      <td>45.138435</td>\n",
       "      <td>1</td>\n",
       "      <td>0</td>\n",
       "      <td>40.550668</td>\n",
       "      <td>Intermediate</td>\n",
       "      <td>grains</td>\n",
       "      <td>50.369152</td>\n",
       "    </tr>\n",
       "    <tr>\n",
       "      <th>907</th>\n",
       "      <td>483.0</td>\n",
       "      <td>11</td>\n",
       "      <td>24.912137</td>\n",
       "      <td>59.485091</td>\n",
       "      <td>6</td>\n",
       "      <td>0</td>\n",
       "      <td>36.470276</td>\n",
       "      <td>Intermediate</td>\n",
       "      <td>dairy</td>\n",
       "      <td>43.070121</td>\n",
       "    </tr>\n",
       "    <tr>\n",
       "      <th>908</th>\n",
       "      <td>243.0</td>\n",
       "      <td>11</td>\n",
       "      <td>28.870945</td>\n",
       "      <td>70.508404</td>\n",
       "      <td>2</td>\n",
       "      <td>0</td>\n",
       "      <td>19.767203</td>\n",
       "      <td>Intermediate</td>\n",
       "      <td>meat</td>\n",
       "      <td>29.632560</td>\n",
       "    </tr>\n",
       "    <tr>\n",
       "      <th>909</th>\n",
       "      <td>406.0</td>\n",
       "      <td>10</td>\n",
       "      <td>19.061638</td>\n",
       "      <td>55.286642</td>\n",
       "      <td>0</td>\n",
       "      <td>0</td>\n",
       "      <td>28.560361</td>\n",
       "      <td>Expert</td>\n",
       "      <td>meat</td>\n",
       "      <td>44.615759</td>\n",
       "    </tr>\n",
       "    <tr>\n",
       "      <th>910</th>\n",
       "      <td>350.0</td>\n",
       "      <td>6</td>\n",
       "      <td>23.708015</td>\n",
       "      <td>51.351286</td>\n",
       "      <td>4</td>\n",
       "      <td>0</td>\n",
       "      <td>46.786860</td>\n",
       "      <td>Intermediate</td>\n",
       "      <td>vegetables</td>\n",
       "      <td>57.066481</td>\n",
       "    </tr>\n",
       "  </tbody>\n",
       "</table>\n",
       "<p>746 rows × 10 columns</p>\n",
       "</div>"
      ],
      "text/plain": [
       "     meals_served  kitchen_staff  temperature_C  humidity_percent  \\\n",
       "0           196.0             13      27.887273         45.362854   \n",
       "2           148.0             16      27.714300         69.046113   \n",
       "3           157.0             19      19.173902         46.292823   \n",
       "4           297.0             10      26.375233         79.741064   \n",
       "5           241.0             18      16.863506         79.285919   \n",
       "..            ...            ...            ...               ...   \n",
       "906         395.0             18      17.354199         45.138435   \n",
       "907         483.0             11      24.912137         59.485091   \n",
       "908         243.0             11      28.870945         70.508404   \n",
       "909         406.0             10      19.061638         55.286642   \n",
       "910         350.0              6      23.708015         51.351286   \n",
       "\n",
       "     day_of_week special_event  past_waste_kg staff_experience waste_category  \\\n",
       "0              0             0       7.740587     Intermediate          dairy   \n",
       "2              1             0      41.184305         Beginner           meat   \n",
       "3              6             0      41.543492         Beginner           meat   \n",
       "4              0             0      26.525097     Intermediate           meat   \n",
       "5              3             0      11.834878     Intermediate          dairy   \n",
       "..           ...           ...            ...              ...            ...   \n",
       "906            1             0      40.550668     Intermediate         grains   \n",
       "907            6             0      36.470276     Intermediate          dairy   \n",
       "908            2             0      19.767203     Intermediate           meat   \n",
       "909            0             0      28.560361           Expert           meat   \n",
       "910            4             0      46.786860     Intermediate     vegetables   \n",
       "\n",
       "     food_waste_kg  \n",
       "0        28.946465  \n",
       "2        53.008323  \n",
       "3        48.621527  \n",
       "4        44.156984  \n",
       "5        27.393670  \n",
       "..             ...  \n",
       "906      50.369152  \n",
       "907      43.070121  \n",
       "908      29.632560  \n",
       "909      44.615759  \n",
       "910      57.066481  \n",
       "\n",
       "[746 rows x 10 columns]"
      ]
     },
     "execution_count": 218,
     "metadata": {},
     "output_type": "execute_result"
    }
   ],
   "source": [
    "data"
   ]
  },
  {
   "cell_type": "code",
   "execution_count": 219,
   "id": "94b693e6",
   "metadata": {},
   "outputs": [],
   "source": [
    "# \n"
   ]
  },
  {
   "cell_type": "markdown",
   "id": "9e36cd1e",
   "metadata": {},
   "source": [
    "## feature engineering and Encoding"
   ]
  },
  {
   "cell_type": "code",
   "execution_count": 220,
   "id": "2f5b13e5",
   "metadata": {},
   "outputs": [],
   "source": [
    "# experience_order = {\"Beginner\": 0, \"Intermediate\": 1, \"Expert\": 2, \"Unknown\": -1}\n",
    "# data[\"staff_experience\"] = data[\"staff_experience\"].replace(experience_order)\n"
   ]
  },
  {
   "cell_type": "code",
   "execution_count": 221,
   "id": "be51ea95",
   "metadata": {},
   "outputs": [],
   "source": [
    "# data = pd.get_dummies(data, columns=[\"waste_category\", \"special_event\"], drop_first=True)\n"
   ]
  },
  {
   "cell_type": "code",
   "execution_count": null,
   "id": "829edd80",
   "metadata": {},
   "outputs": [
    {
     "data": {
      "text/plain": [
       "Index(['meals_served', 'kitchen_staff', 'temperature_C', 'humidity_percent',\n",
       "       'day_of_week', 'special_event', 'past_waste_kg', 'staff_experience',\n",
       "       'waste_category', 'food_waste_kg'],\n",
       "      dtype='object')"
      ]
     },
     "execution_count": 222,
     "metadata": {},
     "output_type": "execute_result"
    }
   ],
   "source": [
    "# \n",
    "data.columns"
   ]
  },
  {
   "cell_type": "code",
   "execution_count": 223,
   "id": "3cd8608b",
   "metadata": {},
   "outputs": [],
   "source": [
    "data.to_csv(\"cleaned_food_waste_data.csv\", index=False)\n"
   ]
  },
  {
   "cell_type": "code",
   "execution_count": null,
   "id": "e44fc62c",
   "metadata": {},
   "outputs": [],
   "source": [
    "\n"
   ]
  },
  {
   "cell_type": "code",
   "execution_count": null,
   "id": "a2f78c72",
   "metadata": {},
   "outputs": [],
   "source": [
    "\n"
   ]
  },
  {
   "cell_type": "code",
   "execution_count": null,
   "id": "ab76b20b",
   "metadata": {},
   "outputs": [],
   "source": [
    "\n"
   ]
  },
  {
   "cell_type": "code",
   "execution_count": null,
   "id": "e8585672",
   "metadata": {},
   "outputs": [],
   "source": [
    "\n"
   ]
  },
  {
   "cell_type": "code",
   "execution_count": null,
   "id": "2683aea9",
   "metadata": {},
   "outputs": [],
   "source": [
    "\n",
    "\n"
   ]
  },
  {
   "cell_type": "code",
   "execution_count": null,
   "id": "f754490b",
   "metadata": {},
   "outputs": [],
   "source": [
    "\n"
   ]
  },
  {
   "cell_type": "code",
   "execution_count": null,
   "id": "67667fce",
   "metadata": {},
   "outputs": [],
   "source": []
  }
 ],
 "metadata": {
  "kernelspec": {
   "display_name": "base",
   "language": "python",
   "name": "python3"
  },
  "language_info": {
   "codemirror_mode": {
    "name": "ipython",
    "version": 3
   },
   "file_extension": ".py",
   "mimetype": "text/x-python",
   "name": "python",
   "nbconvert_exporter": "python",
   "pygments_lexer": "ipython3",
   "version": "3.12.7"
  }
 },
 "nbformat": 4,
 "nbformat_minor": 5
}
